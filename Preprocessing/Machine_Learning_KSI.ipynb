{
 "cells": [
  {
   "cell_type": "code",
   "execution_count": 1,
   "metadata": {},
   "outputs": [],
   "source": [
    "import warnings\n",
    "warnings.filterwarnings('ignore')"
   ]
  },
  {
   "cell_type": "code",
   "execution_count": 2,
   "metadata": {},
   "outputs": [],
   "source": [
    "# Import dependencies\n",
    "import numpy as np\n",
    "import pandas as pd\n",
    "from collections import Counter\n",
    "from sklearn.model_selection import train_test_split\n",
    "from sklearn.preprocessing import StandardScaler,OneHotEncoder"
   ]
  },
  {
   "cell_type": "code",
   "execution_count": 3,
   "metadata": {
    "scrolled": true
   },
   "outputs": [
    {
     "data": {
      "text/html": [
       "<div>\n",
       "<style scoped>\n",
       "    .dataframe tbody tr th:only-of-type {\n",
       "        vertical-align: middle;\n",
       "    }\n",
       "\n",
       "    .dataframe tbody tr th {\n",
       "        vertical-align: top;\n",
       "    }\n",
       "\n",
       "    .dataframe thead th {\n",
       "        text-align: right;\n",
       "    }\n",
       "</style>\n",
       "<table border=\"1\" class=\"dataframe\">\n",
       "  <thead>\n",
       "    <tr style=\"text-align: right;\">\n",
       "      <th></th>\n",
       "      <th>Accident Number</th>\n",
       "      <th>Year</th>\n",
       "      <th>Date</th>\n",
       "      <th>Month</th>\n",
       "      <th>Day</th>\n",
       "      <th>Hour</th>\n",
       "      <th>Time</th>\n",
       "      <th>Weekday</th>\n",
       "      <th>Is_Weekend</th>\n",
       "      <th>Is_Holiday</th>\n",
       "      <th>...</th>\n",
       "      <th>Passenger Involved</th>\n",
       "      <th>Speeding Related</th>\n",
       "      <th>Aggressive and Distracted Driving</th>\n",
       "      <th>Red Light Related</th>\n",
       "      <th>Alcohol Related</th>\n",
       "      <th>Medical or Physical Disability Related</th>\n",
       "      <th>Police Division</th>\n",
       "      <th>Neighbourhood ID</th>\n",
       "      <th>Neighbourhood</th>\n",
       "      <th>Object ID</th>\n",
       "    </tr>\n",
       "  </thead>\n",
       "  <tbody>\n",
       "    <tr>\n",
       "      <th>0</th>\n",
       "      <td>892658</td>\n",
       "      <td>2006</td>\n",
       "      <td>2006-03-11 05:00:00+00:00</td>\n",
       "      <td>3</td>\n",
       "      <td>11</td>\n",
       "      <td>8</td>\n",
       "      <td>Morning</td>\n",
       "      <td>Saturday</td>\n",
       "      <td>1</td>\n",
       "      <td>0</td>\n",
       "      <td>...</td>\n",
       "      <td>0</td>\n",
       "      <td>0</td>\n",
       "      <td>1</td>\n",
       "      <td>0</td>\n",
       "      <td>0</td>\n",
       "      <td>0</td>\n",
       "      <td>11</td>\n",
       "      <td>88</td>\n",
       "      <td>High Park North</td>\n",
       "      <td>1</td>\n",
       "    </tr>\n",
       "    <tr>\n",
       "      <th>1</th>\n",
       "      <td>892658</td>\n",
       "      <td>2006</td>\n",
       "      <td>2006-03-11 05:00:00+00:00</td>\n",
       "      <td>3</td>\n",
       "      <td>11</td>\n",
       "      <td>8</td>\n",
       "      <td>Morning</td>\n",
       "      <td>Saturday</td>\n",
       "      <td>1</td>\n",
       "      <td>0</td>\n",
       "      <td>...</td>\n",
       "      <td>0</td>\n",
       "      <td>0</td>\n",
       "      <td>1</td>\n",
       "      <td>0</td>\n",
       "      <td>0</td>\n",
       "      <td>0</td>\n",
       "      <td>11</td>\n",
       "      <td>88</td>\n",
       "      <td>High Park North</td>\n",
       "      <td>2</td>\n",
       "    </tr>\n",
       "    <tr>\n",
       "      <th>2</th>\n",
       "      <td>892810</td>\n",
       "      <td>2006</td>\n",
       "      <td>2006-03-11 05:00:00+00:00</td>\n",
       "      <td>3</td>\n",
       "      <td>11</td>\n",
       "      <td>9</td>\n",
       "      <td>Morning</td>\n",
       "      <td>Saturday</td>\n",
       "      <td>1</td>\n",
       "      <td>0</td>\n",
       "      <td>...</td>\n",
       "      <td>0</td>\n",
       "      <td>0</td>\n",
       "      <td>1</td>\n",
       "      <td>1</td>\n",
       "      <td>0</td>\n",
       "      <td>0</td>\n",
       "      <td>42</td>\n",
       "      <td>131</td>\n",
       "      <td>Rouge</td>\n",
       "      <td>3</td>\n",
       "    </tr>\n",
       "    <tr>\n",
       "      <th>3</th>\n",
       "      <td>892810</td>\n",
       "      <td>2006</td>\n",
       "      <td>2006-03-11 05:00:00+00:00</td>\n",
       "      <td>3</td>\n",
       "      <td>11</td>\n",
       "      <td>9</td>\n",
       "      <td>Morning</td>\n",
       "      <td>Saturday</td>\n",
       "      <td>1</td>\n",
       "      <td>0</td>\n",
       "      <td>...</td>\n",
       "      <td>0</td>\n",
       "      <td>0</td>\n",
       "      <td>1</td>\n",
       "      <td>1</td>\n",
       "      <td>0</td>\n",
       "      <td>0</td>\n",
       "      <td>42</td>\n",
       "      <td>131</td>\n",
       "      <td>Rouge</td>\n",
       "      <td>4</td>\n",
       "    </tr>\n",
       "    <tr>\n",
       "      <th>4</th>\n",
       "      <td>892682</td>\n",
       "      <td>2006</td>\n",
       "      <td>2006-03-12 05:00:00+00:00</td>\n",
       "      <td>3</td>\n",
       "      <td>12</td>\n",
       "      <td>2</td>\n",
       "      <td>Night</td>\n",
       "      <td>Sunday</td>\n",
       "      <td>1</td>\n",
       "      <td>0</td>\n",
       "      <td>...</td>\n",
       "      <td>0</td>\n",
       "      <td>0</td>\n",
       "      <td>0</td>\n",
       "      <td>0</td>\n",
       "      <td>1</td>\n",
       "      <td>0</td>\n",
       "      <td>41</td>\n",
       "      <td>138</td>\n",
       "      <td>Eglinton East</td>\n",
       "      <td>5</td>\n",
       "    </tr>\n",
       "  </tbody>\n",
       "</table>\n",
       "<p>5 rows × 45 columns</p>\n",
       "</div>"
      ],
      "text/plain": [
       "   Accident Number  Year                       Date  Month  Day  Hour  \\\n",
       "0           892658  2006  2006-03-11 05:00:00+00:00      3   11     8   \n",
       "1           892658  2006  2006-03-11 05:00:00+00:00      3   11     8   \n",
       "2           892810  2006  2006-03-11 05:00:00+00:00      3   11     9   \n",
       "3           892810  2006  2006-03-11 05:00:00+00:00      3   11     9   \n",
       "4           892682  2006  2006-03-12 05:00:00+00:00      3   12     2   \n",
       "\n",
       "      Time   Weekday  Is_Weekend  Is_Holiday  ... Passenger Involved  \\\n",
       "0  Morning  Saturday           1           0  ...                  0   \n",
       "1  Morning  Saturday           1           0  ...                  0   \n",
       "2  Morning  Saturday           1           0  ...                  0   \n",
       "3  Morning  Saturday           1           0  ...                  0   \n",
       "4    Night    Sunday           1           0  ...                  0   \n",
       "\n",
       "  Speeding Related Aggressive and Distracted Driving Red Light Related  \\\n",
       "0                0                                 1                 0   \n",
       "1                0                                 1                 0   \n",
       "2                0                                 1                 1   \n",
       "3                0                                 1                 1   \n",
       "4                0                                 0                 0   \n",
       "\n",
       "   Alcohol Related  Medical or Physical Disability Related Police Division  \\\n",
       "0                0                                       0              11   \n",
       "1                0                                       0              11   \n",
       "2                0                                       0              42   \n",
       "3                0                                       0              42   \n",
       "4                1                                       0              41   \n",
       "\n",
       "  Neighbourhood ID    Neighbourhood Object ID  \n",
       "0               88  High Park North         1  \n",
       "1               88  High Park North         2  \n",
       "2              131            Rouge         3  \n",
       "3              131            Rouge         4  \n",
       "4              138    Eglinton East         5  \n",
       "\n",
       "[5 rows x 45 columns]"
      ]
     },
     "execution_count": 3,
     "metadata": {},
     "output_type": "execute_result"
    }
   ],
   "source": [
    "# Import and read clean_KSI.csv\n",
    "clean_ksi_df = pd.read_csv(\"../Preprocessing/clean_KSI.csv\")\n",
    "clean_ksi_df.head()"
   ]
  },
  {
   "cell_type": "code",
   "execution_count": 4,
   "metadata": {
    "scrolled": true
   },
   "outputs": [
    {
     "data": {
      "text/plain": [
       "Index(['Accident Number', 'Year', 'Date', 'Month', 'Day', 'Hour', 'Time',\n",
       "       'Weekday', 'Is_Weekend', 'Is_Holiday', 'Holiday', 'Season',\n",
       "       'Road Classification', 'City District', 'Latitude', 'Longitude',\n",
       "       'Location Coordinate', 'Traffic Control', 'Environment Condition',\n",
       "       'Light Condition', 'Road Surface Condition',\n",
       "       'Classification of Accident', 'Initial Impact Type', 'Involvement Type',\n",
       "       'Age of Involved Party', 'Severity of Injury', 'Type of Vehicle',\n",
       "       'Vehicle Manouever', 'Pedestrian Involved', 'Cyclists Involved',\n",
       "       'Driver Involved', 'Motorcyclist Involved', 'Truck Driver Involved',\n",
       "       'Transit or City Vehicle Involved', 'Emergency Vehicle Involved',\n",
       "       'Passenger Involved', 'Speeding Related',\n",
       "       'Aggressive and Distracted Driving', 'Red Light Related',\n",
       "       'Alcohol Related', 'Medical or Physical Disability Related',\n",
       "       'Police Division', 'Neighbourhood ID', 'Neighbourhood', 'Object ID'],\n",
       "      dtype='object')"
      ]
     },
     "execution_count": 4,
     "metadata": {},
     "output_type": "execute_result"
    }
   ],
   "source": [
    "# Check Columns\n",
    "clean_ksi_df.columns"
   ]
  },
  {
   "cell_type": "code",
   "execution_count": 5,
   "metadata": {},
   "outputs": [],
   "source": [
    "# Drop non-beneficial columns\n",
    "clean_ksi_df = clean_ksi_df.drop(columns=['Accident Number', 'Date', 'Latitude', 'Longitude', 'Neighbourhood', 'Object ID', 'Holiday', 'Weekday'])"
   ]
  },
  {
   "cell_type": "code",
   "execution_count": 6,
   "metadata": {
    "scrolled": true
   },
   "outputs": [
    {
     "data": {
      "text/html": [
       "<div>\n",
       "<style scoped>\n",
       "    .dataframe tbody tr th:only-of-type {\n",
       "        vertical-align: middle;\n",
       "    }\n",
       "\n",
       "    .dataframe tbody tr th {\n",
       "        vertical-align: top;\n",
       "    }\n",
       "\n",
       "    .dataframe thead th {\n",
       "        text-align: right;\n",
       "    }\n",
       "</style>\n",
       "<table border=\"1\" class=\"dataframe\">\n",
       "  <thead>\n",
       "    <tr style=\"text-align: right;\">\n",
       "      <th></th>\n",
       "      <th>Year</th>\n",
       "      <th>Month</th>\n",
       "      <th>Day</th>\n",
       "      <th>Hour</th>\n",
       "      <th>Time</th>\n",
       "      <th>Is_Weekend</th>\n",
       "      <th>Is_Holiday</th>\n",
       "      <th>Season</th>\n",
       "      <th>Road Classification</th>\n",
       "      <th>City District</th>\n",
       "      <th>...</th>\n",
       "      <th>Transit or City Vehicle Involved</th>\n",
       "      <th>Emergency Vehicle Involved</th>\n",
       "      <th>Passenger Involved</th>\n",
       "      <th>Speeding Related</th>\n",
       "      <th>Aggressive and Distracted Driving</th>\n",
       "      <th>Red Light Related</th>\n",
       "      <th>Alcohol Related</th>\n",
       "      <th>Medical or Physical Disability Related</th>\n",
       "      <th>Police Division</th>\n",
       "      <th>Neighbourhood ID</th>\n",
       "    </tr>\n",
       "  </thead>\n",
       "  <tbody>\n",
       "    <tr>\n",
       "      <th>0</th>\n",
       "      <td>2006</td>\n",
       "      <td>3</td>\n",
       "      <td>11</td>\n",
       "      <td>8</td>\n",
       "      <td>Morning</td>\n",
       "      <td>1</td>\n",
       "      <td>0</td>\n",
       "      <td>Spring</td>\n",
       "      <td>Major Arterial</td>\n",
       "      <td>Toronto and East York</td>\n",
       "      <td>...</td>\n",
       "      <td>0</td>\n",
       "      <td>0</td>\n",
       "      <td>0</td>\n",
       "      <td>0</td>\n",
       "      <td>1</td>\n",
       "      <td>0</td>\n",
       "      <td>0</td>\n",
       "      <td>0</td>\n",
       "      <td>11</td>\n",
       "      <td>88</td>\n",
       "    </tr>\n",
       "    <tr>\n",
       "      <th>1</th>\n",
       "      <td>2006</td>\n",
       "      <td>3</td>\n",
       "      <td>11</td>\n",
       "      <td>8</td>\n",
       "      <td>Morning</td>\n",
       "      <td>1</td>\n",
       "      <td>0</td>\n",
       "      <td>Spring</td>\n",
       "      <td>Major Arterial</td>\n",
       "      <td>Toronto and East York</td>\n",
       "      <td>...</td>\n",
       "      <td>0</td>\n",
       "      <td>0</td>\n",
       "      <td>0</td>\n",
       "      <td>0</td>\n",
       "      <td>1</td>\n",
       "      <td>0</td>\n",
       "      <td>0</td>\n",
       "      <td>0</td>\n",
       "      <td>11</td>\n",
       "      <td>88</td>\n",
       "    </tr>\n",
       "    <tr>\n",
       "      <th>2</th>\n",
       "      <td>2006</td>\n",
       "      <td>3</td>\n",
       "      <td>11</td>\n",
       "      <td>9</td>\n",
       "      <td>Morning</td>\n",
       "      <td>1</td>\n",
       "      <td>0</td>\n",
       "      <td>Spring</td>\n",
       "      <td>Major Arterial</td>\n",
       "      <td>Scarborough</td>\n",
       "      <td>...</td>\n",
       "      <td>0</td>\n",
       "      <td>0</td>\n",
       "      <td>0</td>\n",
       "      <td>0</td>\n",
       "      <td>1</td>\n",
       "      <td>1</td>\n",
       "      <td>0</td>\n",
       "      <td>0</td>\n",
       "      <td>42</td>\n",
       "      <td>131</td>\n",
       "    </tr>\n",
       "    <tr>\n",
       "      <th>3</th>\n",
       "      <td>2006</td>\n",
       "      <td>3</td>\n",
       "      <td>11</td>\n",
       "      <td>9</td>\n",
       "      <td>Morning</td>\n",
       "      <td>1</td>\n",
       "      <td>0</td>\n",
       "      <td>Spring</td>\n",
       "      <td>Major Arterial</td>\n",
       "      <td>Scarborough</td>\n",
       "      <td>...</td>\n",
       "      <td>0</td>\n",
       "      <td>0</td>\n",
       "      <td>0</td>\n",
       "      <td>0</td>\n",
       "      <td>1</td>\n",
       "      <td>1</td>\n",
       "      <td>0</td>\n",
       "      <td>0</td>\n",
       "      <td>42</td>\n",
       "      <td>131</td>\n",
       "    </tr>\n",
       "    <tr>\n",
       "      <th>4</th>\n",
       "      <td>2006</td>\n",
       "      <td>3</td>\n",
       "      <td>12</td>\n",
       "      <td>2</td>\n",
       "      <td>Night</td>\n",
       "      <td>1</td>\n",
       "      <td>0</td>\n",
       "      <td>Spring</td>\n",
       "      <td>Major Arterial</td>\n",
       "      <td>Scarborough</td>\n",
       "      <td>...</td>\n",
       "      <td>0</td>\n",
       "      <td>0</td>\n",
       "      <td>0</td>\n",
       "      <td>0</td>\n",
       "      <td>0</td>\n",
       "      <td>0</td>\n",
       "      <td>1</td>\n",
       "      <td>0</td>\n",
       "      <td>41</td>\n",
       "      <td>138</td>\n",
       "    </tr>\n",
       "  </tbody>\n",
       "</table>\n",
       "<p>5 rows × 37 columns</p>\n",
       "</div>"
      ],
      "text/plain": [
       "   Year  Month  Day  Hour     Time  Is_Weekend  Is_Holiday  Season  \\\n",
       "0  2006      3   11     8  Morning           1           0  Spring   \n",
       "1  2006      3   11     8  Morning           1           0  Spring   \n",
       "2  2006      3   11     9  Morning           1           0  Spring   \n",
       "3  2006      3   11     9  Morning           1           0  Spring   \n",
       "4  2006      3   12     2    Night           1           0  Spring   \n",
       "\n",
       "  Road Classification          City District  ...  \\\n",
       "0      Major Arterial  Toronto and East York  ...   \n",
       "1      Major Arterial  Toronto and East York  ...   \n",
       "2      Major Arterial            Scarborough  ...   \n",
       "3      Major Arterial            Scarborough  ...   \n",
       "4      Major Arterial            Scarborough  ...   \n",
       "\n",
       "  Transit or City Vehicle Involved Emergency Vehicle Involved  \\\n",
       "0                                0                          0   \n",
       "1                                0                          0   \n",
       "2                                0                          0   \n",
       "3                                0                          0   \n",
       "4                                0                          0   \n",
       "\n",
       "  Passenger Involved Speeding Related Aggressive and Distracted Driving  \\\n",
       "0                  0                0                                 1   \n",
       "1                  0                0                                 1   \n",
       "2                  0                0                                 1   \n",
       "3                  0                0                                 1   \n",
       "4                  0                0                                 0   \n",
       "\n",
       "  Red Light Related Alcohol Related Medical or Physical Disability Related  \\\n",
       "0                 0               0                                      0   \n",
       "1                 0               0                                      0   \n",
       "2                 1               0                                      0   \n",
       "3                 1               0                                      0   \n",
       "4                 0               1                                      0   \n",
       "\n",
       "  Police Division Neighbourhood ID  \n",
       "0              11               88  \n",
       "1              11               88  \n",
       "2              42              131  \n",
       "3              42              131  \n",
       "4              41              138  \n",
       "\n",
       "[5 rows x 37 columns]"
      ]
     },
     "execution_count": 6,
     "metadata": {},
     "output_type": "execute_result"
    }
   ],
   "source": [
    "# Drop null columns where all values are null\n",
    "clean_ksi_df = clean_ksi_df.dropna(axis='columns', how='all')\n",
    "\n",
    "# Drop null rows\n",
    "clean_ksi_df = clean_ksi_df.dropna()\n",
    "\n",
    "# Remove the '<Null>' City District values\n",
    "null = clean_ksi_df['City District'] != '<Null>'\n",
    "clean_ksi_df = clean_ksi_df.loc[null]\n",
    "\n",
    "clean_ksi_df.reset_index(inplace=True, drop=True)\n",
    "clean_ksi_df.head()"
   ]
  },
  {
   "cell_type": "code",
   "execution_count": 7,
   "metadata": {},
   "outputs": [],
   "source": [
    "# Target Variable = Classification of Accident\n",
    "# Create Features\n",
    "X = clean_ksi_df.drop(columns='Classification of Accident')\n",
    "X = pd.get_dummies(X)\n",
    "\n",
    "# Create Target\n",
    "\n",
    "y = clean_ksi_df['Classification of Accident']"
   ]
  },
  {
   "cell_type": "code",
   "execution_count": 8,
   "metadata": {
    "scrolled": false
   },
   "outputs": [
    {
     "data": {
      "text/html": [
       "<div>\n",
       "<style scoped>\n",
       "    .dataframe tbody tr th:only-of-type {\n",
       "        vertical-align: middle;\n",
       "    }\n",
       "\n",
       "    .dataframe tbody tr th {\n",
       "        vertical-align: top;\n",
       "    }\n",
       "\n",
       "    .dataframe thead th {\n",
       "        text-align: right;\n",
       "    }\n",
       "</style>\n",
       "<table border=\"1\" class=\"dataframe\">\n",
       "  <thead>\n",
       "    <tr style=\"text-align: right;\">\n",
       "      <th></th>\n",
       "      <th>Year</th>\n",
       "      <th>Month</th>\n",
       "      <th>Day</th>\n",
       "      <th>Hour</th>\n",
       "      <th>Is_Weekend</th>\n",
       "      <th>Is_Holiday</th>\n",
       "      <th>Pedestrian Involved</th>\n",
       "      <th>Cyclists Involved</th>\n",
       "      <th>Driver Involved</th>\n",
       "      <th>Motorcyclist Involved</th>\n",
       "      <th>...</th>\n",
       "      <th>Vehicle Manouever_Going Ahead</th>\n",
       "      <th>Vehicle Manouever_Not Applicable</th>\n",
       "      <th>Vehicle Manouever_Other</th>\n",
       "      <th>Vehicle Manouever_Parked</th>\n",
       "      <th>Vehicle Manouever_Reversing</th>\n",
       "      <th>Vehicle Manouever_Slowing or Stopping</th>\n",
       "      <th>Vehicle Manouever_Stopped</th>\n",
       "      <th>Vehicle Manouever_Turning Left</th>\n",
       "      <th>Vehicle Manouever_Turning Right</th>\n",
       "      <th>Vehicle Manouever_Unknown</th>\n",
       "    </tr>\n",
       "  </thead>\n",
       "  <tbody>\n",
       "    <tr>\n",
       "      <th>count</th>\n",
       "      <td>16719.000000</td>\n",
       "      <td>16719.00000</td>\n",
       "      <td>16719.000000</td>\n",
       "      <td>16719.000000</td>\n",
       "      <td>16719.000000</td>\n",
       "      <td>16719.000000</td>\n",
       "      <td>16719.000000</td>\n",
       "      <td>16719.000000</td>\n",
       "      <td>16719.000000</td>\n",
       "      <td>16719.000000</td>\n",
       "      <td>...</td>\n",
       "      <td>16719.000000</td>\n",
       "      <td>16719.000000</td>\n",
       "      <td>16719.000000</td>\n",
       "      <td>16719.000000</td>\n",
       "      <td>16719.000000</td>\n",
       "      <td>16719.000000</td>\n",
       "      <td>16719.000000</td>\n",
       "      <td>16719.000000</td>\n",
       "      <td>16719.000000</td>\n",
       "      <td>16719.000000</td>\n",
       "    </tr>\n",
       "    <tr>\n",
       "      <th>mean</th>\n",
       "      <td>2012.194509</td>\n",
       "      <td>6.78970</td>\n",
       "      <td>15.598959</td>\n",
       "      <td>13.238830</td>\n",
       "      <td>0.272744</td>\n",
       "      <td>0.025540</td>\n",
       "      <td>0.405347</td>\n",
       "      <td>0.105090</td>\n",
       "      <td>0.908428</td>\n",
       "      <td>0.081225</td>\n",
       "      <td>...</td>\n",
       "      <td>0.337042</td>\n",
       "      <td>0.429691</td>\n",
       "      <td>0.025899</td>\n",
       "      <td>0.010348</td>\n",
       "      <td>0.006759</td>\n",
       "      <td>0.014774</td>\n",
       "      <td>0.033914</td>\n",
       "      <td>0.096896</td>\n",
       "      <td>0.025600</td>\n",
       "      <td>0.007058</td>\n",
       "    </tr>\n",
       "    <tr>\n",
       "      <th>std</th>\n",
       "      <td>4.216105</td>\n",
       "      <td>3.29152</td>\n",
       "      <td>8.854860</td>\n",
       "      <td>6.299307</td>\n",
       "      <td>0.445383</td>\n",
       "      <td>0.157763</td>\n",
       "      <td>0.490974</td>\n",
       "      <td>0.306679</td>\n",
       "      <td>0.288430</td>\n",
       "      <td>0.273188</td>\n",
       "      <td>...</td>\n",
       "      <td>0.472713</td>\n",
       "      <td>0.495047</td>\n",
       "      <td>0.158838</td>\n",
       "      <td>0.101198</td>\n",
       "      <td>0.081936</td>\n",
       "      <td>0.120649</td>\n",
       "      <td>0.181012</td>\n",
       "      <td>0.295825</td>\n",
       "      <td>0.157942</td>\n",
       "      <td>0.083716</td>\n",
       "    </tr>\n",
       "    <tr>\n",
       "      <th>min</th>\n",
       "      <td>2006.000000</td>\n",
       "      <td>1.00000</td>\n",
       "      <td>1.000000</td>\n",
       "      <td>0.000000</td>\n",
       "      <td>0.000000</td>\n",
       "      <td>0.000000</td>\n",
       "      <td>0.000000</td>\n",
       "      <td>0.000000</td>\n",
       "      <td>0.000000</td>\n",
       "      <td>0.000000</td>\n",
       "      <td>...</td>\n",
       "      <td>0.000000</td>\n",
       "      <td>0.000000</td>\n",
       "      <td>0.000000</td>\n",
       "      <td>0.000000</td>\n",
       "      <td>0.000000</td>\n",
       "      <td>0.000000</td>\n",
       "      <td>0.000000</td>\n",
       "      <td>0.000000</td>\n",
       "      <td>0.000000</td>\n",
       "      <td>0.000000</td>\n",
       "    </tr>\n",
       "    <tr>\n",
       "      <th>25%</th>\n",
       "      <td>2008.000000</td>\n",
       "      <td>4.00000</td>\n",
       "      <td>8.000000</td>\n",
       "      <td>9.000000</td>\n",
       "      <td>0.000000</td>\n",
       "      <td>0.000000</td>\n",
       "      <td>0.000000</td>\n",
       "      <td>0.000000</td>\n",
       "      <td>1.000000</td>\n",
       "      <td>0.000000</td>\n",
       "      <td>...</td>\n",
       "      <td>0.000000</td>\n",
       "      <td>0.000000</td>\n",
       "      <td>0.000000</td>\n",
       "      <td>0.000000</td>\n",
       "      <td>0.000000</td>\n",
       "      <td>0.000000</td>\n",
       "      <td>0.000000</td>\n",
       "      <td>0.000000</td>\n",
       "      <td>0.000000</td>\n",
       "      <td>0.000000</td>\n",
       "    </tr>\n",
       "    <tr>\n",
       "      <th>50%</th>\n",
       "      <td>2012.000000</td>\n",
       "      <td>7.00000</td>\n",
       "      <td>16.000000</td>\n",
       "      <td>14.000000</td>\n",
       "      <td>0.000000</td>\n",
       "      <td>0.000000</td>\n",
       "      <td>0.000000</td>\n",
       "      <td>0.000000</td>\n",
       "      <td>1.000000</td>\n",
       "      <td>0.000000</td>\n",
       "      <td>...</td>\n",
       "      <td>0.000000</td>\n",
       "      <td>0.000000</td>\n",
       "      <td>0.000000</td>\n",
       "      <td>0.000000</td>\n",
       "      <td>0.000000</td>\n",
       "      <td>0.000000</td>\n",
       "      <td>0.000000</td>\n",
       "      <td>0.000000</td>\n",
       "      <td>0.000000</td>\n",
       "      <td>0.000000</td>\n",
       "    </tr>\n",
       "    <tr>\n",
       "      <th>75%</th>\n",
       "      <td>2016.000000</td>\n",
       "      <td>10.00000</td>\n",
       "      <td>23.000000</td>\n",
       "      <td>18.000000</td>\n",
       "      <td>1.000000</td>\n",
       "      <td>0.000000</td>\n",
       "      <td>1.000000</td>\n",
       "      <td>0.000000</td>\n",
       "      <td>1.000000</td>\n",
       "      <td>0.000000</td>\n",
       "      <td>...</td>\n",
       "      <td>1.000000</td>\n",
       "      <td>1.000000</td>\n",
       "      <td>0.000000</td>\n",
       "      <td>0.000000</td>\n",
       "      <td>0.000000</td>\n",
       "      <td>0.000000</td>\n",
       "      <td>0.000000</td>\n",
       "      <td>0.000000</td>\n",
       "      <td>0.000000</td>\n",
       "      <td>0.000000</td>\n",
       "    </tr>\n",
       "    <tr>\n",
       "      <th>max</th>\n",
       "      <td>2020.000000</td>\n",
       "      <td>12.00000</td>\n",
       "      <td>31.000000</td>\n",
       "      <td>23.000000</td>\n",
       "      <td>1.000000</td>\n",
       "      <td>1.000000</td>\n",
       "      <td>1.000000</td>\n",
       "      <td>1.000000</td>\n",
       "      <td>1.000000</td>\n",
       "      <td>1.000000</td>\n",
       "      <td>...</td>\n",
       "      <td>1.000000</td>\n",
       "      <td>1.000000</td>\n",
       "      <td>1.000000</td>\n",
       "      <td>1.000000</td>\n",
       "      <td>1.000000</td>\n",
       "      <td>1.000000</td>\n",
       "      <td>1.000000</td>\n",
       "      <td>1.000000</td>\n",
       "      <td>1.000000</td>\n",
       "      <td>1.000000</td>\n",
       "    </tr>\n",
       "  </tbody>\n",
       "</table>\n",
       "<p>8 rows × 109 columns</p>\n",
       "</div>"
      ],
      "text/plain": [
       "               Year        Month           Day          Hour    Is_Weekend  \\\n",
       "count  16719.000000  16719.00000  16719.000000  16719.000000  16719.000000   \n",
       "mean    2012.194509      6.78970     15.598959     13.238830      0.272744   \n",
       "std        4.216105      3.29152      8.854860      6.299307      0.445383   \n",
       "min     2006.000000      1.00000      1.000000      0.000000      0.000000   \n",
       "25%     2008.000000      4.00000      8.000000      9.000000      0.000000   \n",
       "50%     2012.000000      7.00000     16.000000     14.000000      0.000000   \n",
       "75%     2016.000000     10.00000     23.000000     18.000000      1.000000   \n",
       "max     2020.000000     12.00000     31.000000     23.000000      1.000000   \n",
       "\n",
       "         Is_Holiday  Pedestrian Involved  Cyclists Involved  Driver Involved  \\\n",
       "count  16719.000000         16719.000000       16719.000000     16719.000000   \n",
       "mean       0.025540             0.405347           0.105090         0.908428   \n",
       "std        0.157763             0.490974           0.306679         0.288430   \n",
       "min        0.000000             0.000000           0.000000         0.000000   \n",
       "25%        0.000000             0.000000           0.000000         1.000000   \n",
       "50%        0.000000             0.000000           0.000000         1.000000   \n",
       "75%        0.000000             1.000000           0.000000         1.000000   \n",
       "max        1.000000             1.000000           1.000000         1.000000   \n",
       "\n",
       "       Motorcyclist Involved  ...  Vehicle Manouever_Going Ahead  \\\n",
       "count           16719.000000  ...                   16719.000000   \n",
       "mean                0.081225  ...                       0.337042   \n",
       "std                 0.273188  ...                       0.472713   \n",
       "min                 0.000000  ...                       0.000000   \n",
       "25%                 0.000000  ...                       0.000000   \n",
       "50%                 0.000000  ...                       0.000000   \n",
       "75%                 0.000000  ...                       1.000000   \n",
       "max                 1.000000  ...                       1.000000   \n",
       "\n",
       "       Vehicle Manouever_Not Applicable  Vehicle Manouever_Other  \\\n",
       "count                      16719.000000             16719.000000   \n",
       "mean                           0.429691                 0.025899   \n",
       "std                            0.495047                 0.158838   \n",
       "min                            0.000000                 0.000000   \n",
       "25%                            0.000000                 0.000000   \n",
       "50%                            0.000000                 0.000000   \n",
       "75%                            1.000000                 0.000000   \n",
       "max                            1.000000                 1.000000   \n",
       "\n",
       "       Vehicle Manouever_Parked  Vehicle Manouever_Reversing  \\\n",
       "count              16719.000000                 16719.000000   \n",
       "mean                   0.010348                     0.006759   \n",
       "std                    0.101198                     0.081936   \n",
       "min                    0.000000                     0.000000   \n",
       "25%                    0.000000                     0.000000   \n",
       "50%                    0.000000                     0.000000   \n",
       "75%                    0.000000                     0.000000   \n",
       "max                    1.000000                     1.000000   \n",
       "\n",
       "       Vehicle Manouever_Slowing or Stopping  Vehicle Manouever_Stopped  \\\n",
       "count                           16719.000000               16719.000000   \n",
       "mean                                0.014774                   0.033914   \n",
       "std                                 0.120649                   0.181012   \n",
       "min                                 0.000000                   0.000000   \n",
       "25%                                 0.000000                   0.000000   \n",
       "50%                                 0.000000                   0.000000   \n",
       "75%                                 0.000000                   0.000000   \n",
       "max                                 1.000000                   1.000000   \n",
       "\n",
       "       Vehicle Manouever_Turning Left  Vehicle Manouever_Turning Right  \\\n",
       "count                    16719.000000                     16719.000000   \n",
       "mean                         0.096896                         0.025600   \n",
       "std                          0.295825                         0.157942   \n",
       "min                          0.000000                         0.000000   \n",
       "25%                          0.000000                         0.000000   \n",
       "50%                          0.000000                         0.000000   \n",
       "75%                          0.000000                         0.000000   \n",
       "max                          1.000000                         1.000000   \n",
       "\n",
       "       Vehicle Manouever_Unknown  \n",
       "count               16719.000000  \n",
       "mean                    0.007058  \n",
       "std                     0.083716  \n",
       "min                     0.000000  \n",
       "25%                     0.000000  \n",
       "50%                     0.000000  \n",
       "75%                     0.000000  \n",
       "max                     1.000000  \n",
       "\n",
       "[8 rows x 109 columns]"
      ]
     },
     "execution_count": 8,
     "metadata": {},
     "output_type": "execute_result"
    }
   ],
   "source": [
    "X.describe()"
   ]
  },
  {
   "cell_type": "code",
   "execution_count": 9,
   "metadata": {
    "scrolled": true
   },
   "outputs": [
    {
     "data": {
      "text/plain": [
       "Non-Fatal    14424\n",
       "Fatal         2295\n",
       "Name: Classification of Accident, dtype: int64"
      ]
     },
     "execution_count": 9,
     "metadata": {},
     "output_type": "execute_result"
    }
   ],
   "source": [
    "# Check the balance of our target values\n",
    "y.value_counts()"
   ]
  },
  {
   "cell_type": "code",
   "execution_count": 10,
   "metadata": {},
   "outputs": [],
   "source": [
    "X_train, X_test, y_train, y_test = train_test_split(X, y, random_state=1)"
   ]
  },
  {
   "cell_type": "markdown",
   "metadata": {},
   "source": [
    "# Oversampling"
   ]
  },
  {
   "cell_type": "markdown",
   "metadata": {},
   "source": [
    "### Naive Random Oversampling"
   ]
  },
  {
   "cell_type": "code",
   "execution_count": 11,
   "metadata": {},
   "outputs": [
    {
     "data": {
      "text/plain": [
       "Counter({'Non-Fatal': 10817, 'Fatal': 10817})"
      ]
     },
     "execution_count": 11,
     "metadata": {},
     "output_type": "execute_result"
    }
   ],
   "source": [
    "# Resample the training data with the RandomOversampler\n",
    "from imblearn.over_sampling import RandomOverSampler\n",
    "ros = RandomOverSampler(random_state=1)\n",
    "X_resampled, y_resampled = ros.fit_resample(X_train, y_train)\n",
    "\n",
    "Counter(y_resampled)"
   ]
  },
  {
   "cell_type": "code",
   "execution_count": 12,
   "metadata": {},
   "outputs": [
    {
     "data": {
      "text/plain": [
       "LogisticRegression(random_state=1)"
      ]
     },
     "execution_count": 12,
     "metadata": {},
     "output_type": "execute_result"
    }
   ],
   "source": [
    "# Train the Logistic Regression model using the resampled data\n",
    "from sklearn.linear_model import LogisticRegression\n",
    "\n",
    "model = LogisticRegression(solver='lbfgs', random_state=1)\n",
    "model.fit(X_resampled, y_resampled)"
   ]
  },
  {
   "cell_type": "code",
   "execution_count": 13,
   "metadata": {},
   "outputs": [
    {
     "data": {
      "text/plain": [
       "0.7263070982300752"
      ]
     },
     "execution_count": 13,
     "metadata": {},
     "output_type": "execute_result"
    }
   ],
   "source": [
    "# Calculated the balanced accuracy score\n",
    "from sklearn.metrics import balanced_accuracy_score\n",
    "y_pred = model.predict(X_test)\n",
    "balanced_accuracy_score(y_test, y_pred)"
   ]
  },
  {
   "cell_type": "code",
   "execution_count": 14,
   "metadata": {},
   "outputs": [
    {
     "data": {
      "text/plain": [
       "array([[ 419,  154],\n",
       "       [1005, 2602]], dtype=int64)"
      ]
     },
     "execution_count": 14,
     "metadata": {},
     "output_type": "execute_result"
    }
   ],
   "source": [
    "# Display the confusion matrix\n",
    "from sklearn.metrics import confusion_matrix\n",
    "confusion_matrix(y_test, y_pred)"
   ]
  },
  {
   "cell_type": "code",
   "execution_count": 15,
   "metadata": {
    "scrolled": true
   },
   "outputs": [
    {
     "name": "stdout",
     "output_type": "stream",
     "text": [
      "                   pre       rec       spe        f1       geo       iba       sup\n",
      "\n",
      "      Fatal       0.29      0.73      0.72      0.42      0.73      0.53       573\n",
      "  Non-Fatal       0.94      0.72      0.73      0.82      0.73      0.53      3607\n",
      "\n",
      "avg / total       0.86      0.72      0.73      0.76      0.73      0.53      4180\n",
      "\n"
     ]
    }
   ],
   "source": [
    "# Print the imbalanced classification report\n",
    "from imblearn.metrics import classification_report_imbalanced\n",
    "print(classification_report_imbalanced(y_test, y_pred))"
   ]
  },
  {
   "cell_type": "markdown",
   "metadata": {},
   "source": [
    "### SMOTE Oversampling"
   ]
  },
  {
   "cell_type": "code",
   "execution_count": 16,
   "metadata": {},
   "outputs": [
    {
     "data": {
      "text/plain": [
       "Counter({'Non-Fatal': 10817, 'Fatal': 10817})"
      ]
     },
     "execution_count": 16,
     "metadata": {},
     "output_type": "execute_result"
    }
   ],
   "source": [
    "# Resample the training data with SMOTE\n",
    "from imblearn.over_sampling import SMOTE\n",
    "X_resampled, y_resampled = SMOTE(random_state=1).fit_resample(\n",
    "    X_train, y_train\n",
    ")\n",
    "Counter(y_resampled)"
   ]
  },
  {
   "cell_type": "code",
   "execution_count": 17,
   "metadata": {
    "scrolled": true
   },
   "outputs": [
    {
     "data": {
      "text/plain": [
       "LogisticRegression(random_state=1)"
      ]
     },
     "execution_count": 17,
     "metadata": {},
     "output_type": "execute_result"
    }
   ],
   "source": [
    "# Train the Logistic Regression model using the resampled data\n",
    "model = LogisticRegression(solver='lbfgs', random_state=1)\n",
    "model.fit(X_resampled, y_resampled)"
   ]
  },
  {
   "cell_type": "code",
   "execution_count": 18,
   "metadata": {},
   "outputs": [
    {
     "data": {
      "text/plain": [
       "0.6753046117908217"
      ]
     },
     "execution_count": 18,
     "metadata": {},
     "output_type": "execute_result"
    }
   ],
   "source": [
    "# Calculated the balanced accuracy score\n",
    "y_pred = model.predict(X_test)\n",
    "balanced_accuracy_score(y_test, y_pred)"
   ]
  },
  {
   "cell_type": "code",
   "execution_count": 19,
   "metadata": {},
   "outputs": [
    {
     "data": {
      "text/plain": [
       "array([[ 287,  286],\n",
       "       [ 542, 3065]], dtype=int64)"
      ]
     },
     "execution_count": 19,
     "metadata": {},
     "output_type": "execute_result"
    }
   ],
   "source": [
    "# Display the confusion matrix\n",
    "confusion_matrix(y_test, y_pred)"
   ]
  },
  {
   "cell_type": "code",
   "execution_count": 20,
   "metadata": {
    "scrolled": true
   },
   "outputs": [
    {
     "name": "stdout",
     "output_type": "stream",
     "text": [
      "                   pre       rec       spe        f1       geo       iba       sup\n",
      "\n",
      "      Fatal       0.35      0.50      0.85      0.41      0.65      0.41       573\n",
      "  Non-Fatal       0.91      0.85      0.50      0.88      0.65      0.44      3607\n",
      "\n",
      "avg / total       0.84      0.80      0.55      0.82      0.65      0.44      4180\n",
      "\n"
     ]
    }
   ],
   "source": [
    "# Print the imbalanced classification report\n",
    "print(classification_report_imbalanced(y_test, y_pred))"
   ]
  },
  {
   "cell_type": "markdown",
   "metadata": {},
   "source": [
    "# Undersampling"
   ]
  },
  {
   "cell_type": "code",
   "execution_count": 21,
   "metadata": {},
   "outputs": [
    {
     "data": {
      "text/plain": [
       "Counter({'Fatal': 1722, 'Non-Fatal': 1722})"
      ]
     },
     "execution_count": 21,
     "metadata": {},
     "output_type": "execute_result"
    }
   ],
   "source": [
    "# Resample the data using the ClusterCentroids resampler\n",
    "from imblearn.under_sampling import ClusterCentroids\n",
    "cc = ClusterCentroids(random_state=1)\n",
    "X_resampled, y_resampled = cc.fit_resample(X_train, y_train)\n",
    "Counter(y_resampled)"
   ]
  },
  {
   "cell_type": "code",
   "execution_count": 22,
   "metadata": {},
   "outputs": [
    {
     "data": {
      "text/plain": [
       "LogisticRegression(random_state=1)"
      ]
     },
     "execution_count": 22,
     "metadata": {},
     "output_type": "execute_result"
    }
   ],
   "source": [
    "# Train the Logistic Regression model using the resampled data\n",
    "from sklearn.linear_model import LogisticRegression\n",
    "model = LogisticRegression(solver='lbfgs', random_state=1)\n",
    "model.fit(X_resampled, y_resampled)"
   ]
  },
  {
   "cell_type": "code",
   "execution_count": 23,
   "metadata": {},
   "outputs": [
    {
     "data": {
      "text/plain": [
       "0.5247470620197009"
      ]
     },
     "execution_count": 23,
     "metadata": {},
     "output_type": "execute_result"
    }
   ],
   "source": [
    "# Calculated the balanced accuracy score\n",
    "from sklearn.metrics import balanced_accuracy_score\n",
    "y_pred = model.predict(X_test)\n",
    "balanced_accuracy_score(y_test, y_pred)"
   ]
  },
  {
   "cell_type": "code",
   "execution_count": 24,
   "metadata": {},
   "outputs": [
    {
     "data": {
      "text/plain": [
       "array([[ 568,    5],\n",
       "       [3397,  210]], dtype=int64)"
      ]
     },
     "execution_count": 24,
     "metadata": {},
     "output_type": "execute_result"
    }
   ],
   "source": [
    "# Display the confusion matrix\n",
    "from sklearn.metrics import confusion_matrix\n",
    "confusion_matrix(y_test, y_pred)"
   ]
  },
  {
   "cell_type": "code",
   "execution_count": 25,
   "metadata": {
    "scrolled": true
   },
   "outputs": [
    {
     "name": "stdout",
     "output_type": "stream",
     "text": [
      "                   pre       rec       spe        f1       geo       iba       sup\n",
      "\n",
      "      Fatal       0.14      0.99      0.06      0.25      0.24      0.06       573\n",
      "  Non-Fatal       0.98      0.06      0.99      0.11      0.24      0.05      3607\n",
      "\n",
      "avg / total       0.86      0.19      0.86      0.13      0.24      0.05      4180\n",
      "\n"
     ]
    }
   ],
   "source": [
    "# Print the imbalanced classification report\n",
    "from imblearn.metrics import classification_report_imbalanced\n",
    "print(classification_report_imbalanced(y_test, y_pred))"
   ]
  },
  {
   "cell_type": "markdown",
   "metadata": {},
   "source": [
    "# Combination (Over and Under) Sampling"
   ]
  },
  {
   "cell_type": "code",
   "execution_count": 26,
   "metadata": {},
   "outputs": [
    {
     "data": {
      "text/plain": [
       "Counter({'Fatal': 14376, 'Non-Fatal': 12307})"
      ]
     },
     "execution_count": 26,
     "metadata": {},
     "output_type": "execute_result"
    }
   ],
   "source": [
    "# Resample the training data with SMOTEENN\n",
    "from imblearn.combine import SMOTEENN\n",
    "\n",
    "smote_enn = SMOTEENN(random_state=1)\n",
    "X_resampled, y_resampled = smote_enn.fit_resample(X, y)\n",
    "Counter(y_resampled)"
   ]
  },
  {
   "cell_type": "code",
   "execution_count": 27,
   "metadata": {},
   "outputs": [
    {
     "data": {
      "text/plain": [
       "LogisticRegression(random_state=1)"
      ]
     },
     "execution_count": 27,
     "metadata": {},
     "output_type": "execute_result"
    }
   ],
   "source": [
    "# Train the Logistic Regression model using the resampled data\n",
    "from sklearn.linear_model import LogisticRegression\n",
    "model = LogisticRegression(solver='lbfgs', random_state=1)\n",
    "model.fit(X_resampled, y_resampled)"
   ]
  },
  {
   "cell_type": "code",
   "execution_count": 28,
   "metadata": {},
   "outputs": [
    {
     "data": {
      "text/plain": [
       "0.6784468923380029"
      ]
     },
     "execution_count": 28,
     "metadata": {},
     "output_type": "execute_result"
    }
   ],
   "source": [
    "# Calculated the balanced accuracy score\n",
    "from sklearn.metrics import balanced_accuracy_score\n",
    "y_pred = model.predict(X_test)\n",
    "balanced_accuracy_score(y_test, y_pred)"
   ]
  },
  {
   "cell_type": "code",
   "execution_count": 29,
   "metadata": {},
   "outputs": [
    {
     "data": {
      "text/plain": [
       "array([[ 313,  260],\n",
       "       [ 683, 2924]], dtype=int64)"
      ]
     },
     "execution_count": 29,
     "metadata": {},
     "output_type": "execute_result"
    }
   ],
   "source": [
    "# Display the confusion matrix\n",
    "from sklearn.metrics import confusion_matrix\n",
    "confusion_matrix(y_test, y_pred)"
   ]
  },
  {
   "cell_type": "code",
   "execution_count": 30,
   "metadata": {
    "scrolled": true
   },
   "outputs": [
    {
     "name": "stdout",
     "output_type": "stream",
     "text": [
      "                   pre       rec       spe        f1       geo       iba       sup\n",
      "\n",
      "      Fatal       0.31      0.55      0.81      0.40      0.67      0.43       573\n",
      "  Non-Fatal       0.92      0.81      0.55      0.86      0.67      0.45      3607\n",
      "\n",
      "avg / total       0.84      0.77      0.58      0.80      0.67      0.45      4180\n",
      "\n"
     ]
    }
   ],
   "source": [
    "# Print the imbalanced classification report\n",
    "from imblearn.metrics import classification_report_imbalanced\n",
    "print(classification_report_imbalanced(y_test, y_pred))"
   ]
  },
  {
   "cell_type": "markdown",
   "metadata": {},
   "source": [
    "# Ensemble Learners"
   ]
  },
  {
   "cell_type": "markdown",
   "metadata": {},
   "source": [
    "### Balanced Random Forest Classifier"
   ]
  },
  {
   "cell_type": "code",
   "execution_count": 31,
   "metadata": {},
   "outputs": [],
   "source": [
    "# Resample the training data with the BalancedRandomForestClassifier\n",
    "from imblearn.ensemble import BalancedRandomForestClassifier\n",
    "\n",
    "classifier = BalancedRandomForestClassifier(n_estimators=100, random_state=1)"
   ]
  },
  {
   "cell_type": "code",
   "execution_count": 32,
   "metadata": {},
   "outputs": [
    {
     "data": {
      "text/plain": [
       "0.8675290096675505"
      ]
     },
     "execution_count": 32,
     "metadata": {},
     "output_type": "execute_result"
    }
   ],
   "source": [
    "# Calculated the balanced accuracy score\n",
    "from sklearn.metrics import balanced_accuracy_score\n",
    "classifier.fit(X_train, y_train) \n",
    "\n",
    "# Make Prediction\n",
    "y_pred = classifier.predict(X_test)\n",
    "balanced_accuracy_score(y_test, y_pred)"
   ]
  },
  {
   "cell_type": "code",
   "execution_count": 33,
   "metadata": {},
   "outputs": [
    {
     "data": {
      "text/plain": [
       "array([[ 503,   70],\n",
       "       [ 515, 3092]], dtype=int64)"
      ]
     },
     "execution_count": 33,
     "metadata": {},
     "output_type": "execute_result"
    }
   ],
   "source": [
    "# Display the confusion matrix\n",
    "from sklearn.metrics import confusion_matrix\n",
    "confusion_matrix(y_test, y_pred)"
   ]
  },
  {
   "cell_type": "code",
   "execution_count": 34,
   "metadata": {
    "scrolled": false
   },
   "outputs": [
    {
     "name": "stdout",
     "output_type": "stream",
     "text": [
      "                   pre       rec       spe        f1       geo       iba       sup\n",
      "\n",
      "      Fatal       0.49      0.88      0.86      0.63      0.87      0.75       573\n",
      "  Non-Fatal       0.98      0.86      0.88      0.91      0.87      0.75      3607\n",
      "\n",
      "avg / total       0.91      0.86      0.88      0.88      0.87      0.75      4180\n",
      "\n"
     ]
    }
   ],
   "source": [
    "# Print the imbalanced classification report\n",
    "from imblearn.metrics import classification_report_imbalanced\n",
    "print(classification_report_imbalanced(y_test, y_pred))"
   ]
  },
  {
   "cell_type": "code",
   "execution_count": 35,
   "metadata": {
    "scrolled": true
   },
   "outputs": [
    {
     "data": {
      "text/plain": [
       "[(0.11640346845450629, 'Severity of Injury_Fatal'),\n",
       " (0.08611159849571752, 'Severity of Injury_Major'),\n",
       " (0.0529629251252707, 'Neighbourhood ID'),\n",
       " (0.047686739758221845, 'Day'),\n",
       " (0.04468094029660609, 'Year'),\n",
       " (0.04391201213926802, 'Hour'),\n",
       " (0.03784483474181595, 'Police Division'),\n",
       " (0.035578182905065384, 'Month'),\n",
       " (0.01692969970659132, 'Speeding Related'),\n",
       " (0.013930538665272408, 'Severity of Injury_None'),\n",
       " (0.0125337094400059, 'Truck Driver Involved'),\n",
       " (0.01246429335410087, 'Passenger Involved'),\n",
       " (0.011669393215408734, 'Involvement Type_Pedestrian'),\n",
       " (0.011654791562818598, 'Pedestrian Involved'),\n",
       " (0.011502860853538181, 'Initial Impact Type_Pedestrian Collisions'),\n",
       " (0.011236157714403821, 'Aggressive and Distracted Driving'),\n",
       " (0.010478117843138622, 'Initial Impact Type_Rear End'),\n",
       " (0.010393970232260675, 'Is_Weekend'),\n",
       " (0.009898104726965886, 'City District_Toronto and East York'),\n",
       " (0.00960756222142897, 'Season_Summer'),\n",
       " (0.009512271497445933, 'Traffic Control_No Control'),\n",
       " (0.009308598398598216, 'Road Classification_Major Arterial'),\n",
       " (0.009200533373840305, 'Light Condition_Daylight'),\n",
       " (0.008765055130350618, 'Traffic Control_Traffic Signal'),\n",
       " (0.008622074091697955, 'Time_Afternoon'),\n",
       " (0.008562123046422324, 'Season_Spring'),\n",
       " (0.008453581593743657, 'Season_Fall'),\n",
       " (0.008322494751898467, 'Vehicle Manouever_Going Ahead'),\n",
       " (0.008270797994066664, 'Location Coordinate_Mid-Block'),\n",
       " (0.008223662376514729, 'City District_Scarborough'),\n",
       " (0.008132602869550677, 'Light Condition_Dark'),\n",
       " (0.008046396041432513, 'Age of Involved Party_20 to 39'),\n",
       " (0.007890584326283569, 'Time_Morning'),\n",
       " (0.007825787087229006, 'Location Coordinate_Intersection'),\n",
       " (0.007751177735010212, 'Age of Involved Party_40 to 59'),\n",
       " (0.007666160154201796, 'Season_Winter'),\n",
       " (0.007612305872129175, 'Driver Involved'),\n",
       " (0.007575358760789418, 'Time_Evening'),\n",
       " (0.007323118018827809, 'City District_North York'),\n",
       " (0.0072258635887034505, 'Initial Impact Type_Turning Movement'),\n",
       " (0.007077417627976628, 'Road Classification_Minor Arterial'),\n",
       " (0.00696395954412023, 'Road Surface Condition_Dry'),\n",
       " (0.006831098854996965, 'Time_Night'),\n",
       " (0.006740548822570741, 'City District_Etobicoke York'),\n",
       " (0.006723478543110826, 'Age of Involved Party_60 to 79'),\n",
       " (0.0065854838360020415, 'Road Surface Condition_Wet'),\n",
       " (0.006547044256038491, 'Type of Vehicle_Automobile, Station Wagon'),\n",
       " (0.006542115406982946, 'Age of Involved Party_unknown'),\n",
       " (0.006348806583094418, 'Transit or City Vehicle Involved'),\n",
       " (0.006316224680844907, 'Severity of Injury_Minor'),\n",
       " (0.005969820258368608, 'Involvement Type_Driver'),\n",
       " (0.005906785145474792, 'Vehicle Manouever_Turning Left'),\n",
       " (0.0055565659362946974, 'Severity of Injury_unknown'),\n",
       " (0.005235778776489467, 'Vehicle Manouever_Not Applicable'),\n",
       " (0.005101466641999566, 'Environment Condition_Clear'),\n",
       " (0.004995819386796211, 'Initial Impact Type_Slow Moving Vehicle'),\n",
       " (0.004958068059154696, 'Red Light Related'),\n",
       " (0.00494126897537781, 'Environment Condition_Rain'),\n",
       " (0.004757616772283876, 'Severity of Injury_Minimal'),\n",
       " (0.004723033837061105, 'Cyclists Involved'),\n",
       " (0.004666866725839029, 'Involvement Type_Vehicle Owner'),\n",
       " (0.00466012708580126, 'Initial Impact Type_Approaching'),\n",
       " (0.004629548379219249, 'Alcohol Related'),\n",
       " (0.004614512461856068, 'Motorcyclist Involved'),\n",
       " (0.0046047218014811445, 'Age of Involved Party_80 & Over'),\n",
       " (0.004590099202917158, 'Type of Vehicle_Other'),\n",
       " (0.00419464620390066, 'Involvement Type_Passenger'),\n",
       " (0.004166718760115525, 'Traffic Control_Stop Sign'),\n",
       " (0.004151329173870044, 'Initial Impact Type_Cyclist Collisions'),\n",
       " (0.003884672358820329, 'Road Classification_Collector'),\n",
       " (0.0038831524861080652, 'Age of Involved Party_19 & Under'),\n",
       " (0.003673256645571426, 'Initial Impact Type_Angle'),\n",
       " (0.0035675069416039296, 'Type of Vehicle_Truck'),\n",
       " (0.0033835673611942174, 'Medical or Physical Disability Related'),\n",
       " (0.003001714638775011, 'Involvement Type_Other'),\n",
       " (0.0029957101141875574, 'Road Classification_Local'),\n",
       " (0.0029359008093690973, 'Vehicle Manouever_Stopped'),\n",
       " (0.002768155868612978, 'Road Surface Condition_Other'),\n",
       " (0.0025296974825427037, 'Road Classification_Other'),\n",
       " (0.0024180083259691156, 'Is_Holiday'),\n",
       " (0.002307138096770771, 'Vehicle Manouever_Turning Right'),\n",
       " (0.0022394072860693645, 'Environment Condition_Snow'),\n",
       " (0.0021450498149068607, 'Initial Impact Type_Sideswipe'),\n",
       " (0.002130977759451529, 'Light Condition_Dusk'),\n",
       " (0.002010873440979351, 'Type of Vehicle_Bicycle'),\n",
       " (0.0018857811635534288, 'Traffic Control_Other'),\n",
       " (0.001846025281035637, 'Type of Vehicle_Motorcycle'),\n",
       " (0.0018136566815682965, 'Type of Vehicle_Public Transit'),\n",
       " (0.001798229613105642, 'Light Condition_Dawn'),\n",
       " (0.0017369963739775234, 'Involvement Type_Cyclist'),\n",
       " (0.00167553897039953, 'Vehicle Manouever_Other'),\n",
       " (0.001649918738641008, 'Environment Condition_Other'),\n",
       " (0.0014418595237004966, 'Involvement Type_Motorcyclist'),\n",
       " (0.0012616920776491122, 'Road Surface Condition_Snow'),\n",
       " (0.0011692404287739413, 'Vehicle Manouever_Parked'),\n",
       " (0.0011559320228818114, 'Vehicle Manouever_Reversing'),\n",
       " (0.0010481813192879399, 'Vehicle Manouever_Slowing or Stopping'),\n",
       " (0.000868867554094189, 'Vehicle Manouever_Changing Lanes'),\n",
       " (0.0006465443090515094, 'Initial Impact Type_Other'),\n",
       " (0.0006200088040967583, 'Vehicle Manouever_Unknown'),\n",
       " (0.0005355485754868791, 'Road Surface Condition_Slush'),\n",
       " (0.0004621866224743856, 'Location Coordinate_Other'),\n",
       " (0.00041873412580066565, 'Road Classification_Expressway'),\n",
       " (0.00040042767188342045, 'Environment Condition_Fog, Mist, Smoke, Dust'),\n",
       " (0.00038850832651256555, 'Road Surface Condition_Ice'),\n",
       " (0.00018501696372358808, 'Emergency Vehicle Involved'),\n",
       " (0.00016335897738988352, 'Road Classification_Laneway'),\n",
       " (7.329927835510564e-05, 'Light Condition_Other'),\n",
       " (8.237264442938209e-06, 'Road Classification_Pending')]"
      ]
     },
     "execution_count": 35,
     "metadata": {},
     "output_type": "execute_result"
    }
   ],
   "source": [
    "# List the features sorted in descending order by feature importance\n",
    "sorted(zip(classifier.feature_importances_, X.columns), reverse=True)"
   ]
  },
  {
   "cell_type": "markdown",
   "metadata": {},
   "source": [
    "### Easy Ensemble AdaBoost Classifier"
   ]
  },
  {
   "cell_type": "code",
   "execution_count": 36,
   "metadata": {},
   "outputs": [],
   "source": [
    "# Train the EasyEnsembleClassifier\n",
    "from imblearn.ensemble import EasyEnsembleClassifier\n",
    "classifier = EasyEnsembleClassifier(n_estimators=100, random_state=1)"
   ]
  },
  {
   "cell_type": "code",
   "execution_count": 37,
   "metadata": {},
   "outputs": [
    {
     "data": {
      "text/plain": [
       "0.7802319612194826"
      ]
     },
     "execution_count": 37,
     "metadata": {},
     "output_type": "execute_result"
    }
   ],
   "source": [
    "# Calculated the balanced accuracy score\n",
    "from sklearn.metrics import balanced_accuracy_score\n",
    "\n",
    "classifier.fit(X_train, y_train) \n",
    "\n",
    "y_pred = classifier.predict(X_test)\n",
    "\n",
    "balanced_accuracy_score(y_test, y_pred)"
   ]
  },
  {
   "cell_type": "code",
   "execution_count": 38,
   "metadata": {},
   "outputs": [
    {
     "data": {
      "text/plain": [
       "array([[ 436,  137],\n",
       "       [ 723, 2884]], dtype=int64)"
      ]
     },
     "execution_count": 38,
     "metadata": {},
     "output_type": "execute_result"
    }
   ],
   "source": [
    "# Display the confusion matrix\n",
    "from sklearn.metrics import confusion_matrix\n",
    "confusion_matrix(y_test, y_pred)"
   ]
  },
  {
   "cell_type": "code",
   "execution_count": 39,
   "metadata": {},
   "outputs": [
    {
     "name": "stdout",
     "output_type": "stream",
     "text": [
      "                   pre       rec       spe        f1       geo       iba       sup\n",
      "\n",
      "      Fatal       0.38      0.76      0.80      0.50      0.78      0.61       573\n",
      "  Non-Fatal       0.95      0.80      0.76      0.87      0.78      0.61      3607\n",
      "\n",
      "avg / total       0.88      0.79      0.77      0.82      0.78      0.61      4180\n",
      "\n"
     ]
    }
   ],
   "source": [
    "# Print the imbalanced classification report\n",
    "from imblearn.metrics import classification_report_imbalanced\n",
    "print(classification_report_imbalanced(y_test, y_pred))"
   ]
  }
 ],
 "metadata": {
  "kernelspec": {
   "display_name": "mlenv",
   "language": "python",
   "name": "mlenv"
  },
  "language_info": {
   "codemirror_mode": {
    "name": "ipython",
    "version": 3
   },
   "file_extension": ".py",
   "mimetype": "text/x-python",
   "name": "python",
   "nbconvert_exporter": "python",
   "pygments_lexer": "ipython3",
   "version": "3.7.9"
  }
 },
 "nbformat": 4,
 "nbformat_minor": 4
}
