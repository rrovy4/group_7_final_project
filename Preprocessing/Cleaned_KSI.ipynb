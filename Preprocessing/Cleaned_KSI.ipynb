{
 "cells": [
  {
   "cell_type": "markdown",
   "metadata": {},
   "source": [
    "## Import Dependancies"
   ]
  },
  {
   "cell_type": "code",
   "execution_count": 1,
   "metadata": {},
   "outputs": [],
   "source": [
    "import pandas as pd\n",
    "import datetime as dt\n",
    "import holidays"
   ]
  },
  {
   "cell_type": "markdown",
   "metadata": {},
   "source": [
    "## Import KSI csv"
   ]
  },
  {
   "cell_type": "code",
   "execution_count": 2,
   "metadata": {
    "scrolled": true
   },
   "outputs": [
    {
     "data": {
      "text/html": [
       "<div>\n",
       "<style scoped>\n",
       "    .dataframe tbody tr th:only-of-type {\n",
       "        vertical-align: middle;\n",
       "    }\n",
       "\n",
       "    .dataframe tbody tr th {\n",
       "        vertical-align: top;\n",
       "    }\n",
       "\n",
       "    .dataframe thead th {\n",
       "        text-align: right;\n",
       "    }\n",
       "</style>\n",
       "<table border=\"1\" class=\"dataframe\">\n",
       "  <thead>\n",
       "    <tr style=\"text-align: right;\">\n",
       "      <th></th>\n",
       "      <th>X</th>\n",
       "      <th>Y</th>\n",
       "      <th>INDEX_</th>\n",
       "      <th>ACCNUM</th>\n",
       "      <th>YEAR</th>\n",
       "      <th>DATE</th>\n",
       "      <th>TIME</th>\n",
       "      <th>HOUR</th>\n",
       "      <th>STREET1</th>\n",
       "      <th>STREET2</th>\n",
       "      <th>...</th>\n",
       "      <th>PASSENGER</th>\n",
       "      <th>SPEEDING</th>\n",
       "      <th>AG_DRIV</th>\n",
       "      <th>REDLIGHT</th>\n",
       "      <th>ALCOHOL</th>\n",
       "      <th>DISABILITY</th>\n",
       "      <th>POLICE_DIVISION</th>\n",
       "      <th>HOOD_ID</th>\n",
       "      <th>NEIGHBOURHOOD</th>\n",
       "      <th>ObjectId</th>\n",
       "    </tr>\n",
       "  </thead>\n",
       "  <tbody>\n",
       "    <tr>\n",
       "      <th>0</th>\n",
       "      <td>-8.844611e+06</td>\n",
       "      <td>5.412414e+06</td>\n",
       "      <td>3387730</td>\n",
       "      <td>892658</td>\n",
       "      <td>2006</td>\n",
       "      <td>2006/03/11 05:00:00+00</td>\n",
       "      <td>852</td>\n",
       "      <td>8</td>\n",
       "      <td>BLOOR ST W</td>\n",
       "      <td>DUNDAS ST W</td>\n",
       "      <td>...</td>\n",
       "      <td>&lt;Null&gt;</td>\n",
       "      <td>&lt;Null&gt;</td>\n",
       "      <td>Yes</td>\n",
       "      <td>&lt;Null&gt;</td>\n",
       "      <td>&lt;Null&gt;</td>\n",
       "      <td>&lt;Null&gt;</td>\n",
       "      <td>D11</td>\n",
       "      <td>88</td>\n",
       "      <td>High Park North (88)</td>\n",
       "      <td>1</td>\n",
       "    </tr>\n",
       "    <tr>\n",
       "      <th>1</th>\n",
       "      <td>-8.844611e+06</td>\n",
       "      <td>5.412414e+06</td>\n",
       "      <td>3387731</td>\n",
       "      <td>892658</td>\n",
       "      <td>2006</td>\n",
       "      <td>2006/03/11 05:00:00+00</td>\n",
       "      <td>852</td>\n",
       "      <td>8</td>\n",
       "      <td>BLOOR ST W</td>\n",
       "      <td>DUNDAS ST W</td>\n",
       "      <td>...</td>\n",
       "      <td>&lt;Null&gt;</td>\n",
       "      <td>&lt;Null&gt;</td>\n",
       "      <td>Yes</td>\n",
       "      <td>&lt;Null&gt;</td>\n",
       "      <td>&lt;Null&gt;</td>\n",
       "      <td>&lt;Null&gt;</td>\n",
       "      <td>D11</td>\n",
       "      <td>88</td>\n",
       "      <td>High Park North (88)</td>\n",
       "      <td>2</td>\n",
       "    </tr>\n",
       "    <tr>\n",
       "      <th>2</th>\n",
       "      <td>-8.816480e+06</td>\n",
       "      <td>5.434843e+06</td>\n",
       "      <td>3388101</td>\n",
       "      <td>892810</td>\n",
       "      <td>2006</td>\n",
       "      <td>2006/03/11 05:00:00+00</td>\n",
       "      <td>915</td>\n",
       "      <td>9</td>\n",
       "      <td>MORNINGSIDE AVE</td>\n",
       "      <td>SHEPPARD AVE E</td>\n",
       "      <td>...</td>\n",
       "      <td>&lt;Null&gt;</td>\n",
       "      <td>&lt;Null&gt;</td>\n",
       "      <td>Yes</td>\n",
       "      <td>Yes</td>\n",
       "      <td>&lt;Null&gt;</td>\n",
       "      <td>&lt;Null&gt;</td>\n",
       "      <td>D42</td>\n",
       "      <td>131</td>\n",
       "      <td>Rouge (131)</td>\n",
       "      <td>3</td>\n",
       "    </tr>\n",
       "    <tr>\n",
       "      <th>3</th>\n",
       "      <td>-8.816480e+06</td>\n",
       "      <td>5.434843e+06</td>\n",
       "      <td>3388102</td>\n",
       "      <td>892810</td>\n",
       "      <td>2006</td>\n",
       "      <td>2006/03/11 05:00:00+00</td>\n",
       "      <td>915</td>\n",
       "      <td>9</td>\n",
       "      <td>MORNINGSIDE AVE</td>\n",
       "      <td>SHEPPARD AVE E</td>\n",
       "      <td>...</td>\n",
       "      <td>&lt;Null&gt;</td>\n",
       "      <td>&lt;Null&gt;</td>\n",
       "      <td>Yes</td>\n",
       "      <td>Yes</td>\n",
       "      <td>&lt;Null&gt;</td>\n",
       "      <td>&lt;Null&gt;</td>\n",
       "      <td>D42</td>\n",
       "      <td>131</td>\n",
       "      <td>Rouge (131)</td>\n",
       "      <td>4</td>\n",
       "    </tr>\n",
       "    <tr>\n",
       "      <th>4</th>\n",
       "      <td>-8.822759e+06</td>\n",
       "      <td>5.424516e+06</td>\n",
       "      <td>3387793</td>\n",
       "      <td>892682</td>\n",
       "      <td>2006</td>\n",
       "      <td>2006/03/12 05:00:00+00</td>\n",
       "      <td>240</td>\n",
       "      <td>2</td>\n",
       "      <td>EGLINTON AVE E</td>\n",
       "      <td>COMMONWEALTH AVE</td>\n",
       "      <td>...</td>\n",
       "      <td>&lt;Null&gt;</td>\n",
       "      <td>&lt;Null&gt;</td>\n",
       "      <td>&lt;Null&gt;</td>\n",
       "      <td>&lt;Null&gt;</td>\n",
       "      <td>Yes</td>\n",
       "      <td>&lt;Null&gt;</td>\n",
       "      <td>D41</td>\n",
       "      <td>138</td>\n",
       "      <td>Eglinton East (138)</td>\n",
       "      <td>5</td>\n",
       "    </tr>\n",
       "  </tbody>\n",
       "</table>\n",
       "<p>5 rows × 57 columns</p>\n",
       "</div>"
      ],
      "text/plain": [
       "              X             Y   INDEX_  ACCNUM  YEAR                    DATE  \\\n",
       "0 -8.844611e+06  5.412414e+06  3387730  892658  2006  2006/03/11 05:00:00+00   \n",
       "1 -8.844611e+06  5.412414e+06  3387731  892658  2006  2006/03/11 05:00:00+00   \n",
       "2 -8.816480e+06  5.434843e+06  3388101  892810  2006  2006/03/11 05:00:00+00   \n",
       "3 -8.816480e+06  5.434843e+06  3388102  892810  2006  2006/03/11 05:00:00+00   \n",
       "4 -8.822759e+06  5.424516e+06  3387793  892682  2006  2006/03/12 05:00:00+00   \n",
       "\n",
       "   TIME  HOUR          STREET1           STREET2  ... PASSENGER SPEEDING  \\\n",
       "0   852     8       BLOOR ST W       DUNDAS ST W  ...    <Null>   <Null>   \n",
       "1   852     8       BLOOR ST W       DUNDAS ST W  ...    <Null>   <Null>   \n",
       "2   915     9  MORNINGSIDE AVE    SHEPPARD AVE E  ...    <Null>   <Null>   \n",
       "3   915     9  MORNINGSIDE AVE    SHEPPARD AVE E  ...    <Null>   <Null>   \n",
       "4   240     2   EGLINTON AVE E  COMMONWEALTH AVE  ...    <Null>   <Null>   \n",
       "\n",
       "  AG_DRIV REDLIGHT ALCOHOL  DISABILITY  POLICE_DIVISION HOOD_ID  \\\n",
       "0     Yes   <Null>  <Null>      <Null>              D11      88   \n",
       "1     Yes   <Null>  <Null>      <Null>              D11      88   \n",
       "2     Yes      Yes  <Null>      <Null>              D42     131   \n",
       "3     Yes      Yes  <Null>      <Null>              D42     131   \n",
       "4  <Null>   <Null>     Yes      <Null>              D41     138   \n",
       "\n",
       "          NEIGHBOURHOOD ObjectId  \n",
       "0  High Park North (88)        1  \n",
       "1  High Park North (88)        2  \n",
       "2           Rouge (131)        3  \n",
       "3           Rouge (131)        4  \n",
       "4   Eglinton East (138)        5  \n",
       "\n",
       "[5 rows x 57 columns]"
      ]
     },
     "execution_count": 2,
     "metadata": {},
     "output_type": "execute_result"
    }
   ],
   "source": [
    "ksi_df = pd.read_csv(\"../Kill or Seriously Injured/KSI.csv\")\n",
    "ksi_df.head()"
   ]
  },
  {
   "cell_type": "code",
   "execution_count": 3,
   "metadata": {
    "scrolled": true
   },
   "outputs": [
    {
     "data": {
      "text/plain": [
       "Index(['X', 'Y', 'INDEX_', 'ACCNUM', 'YEAR', 'DATE', 'TIME', 'HOUR', 'STREET1',\n",
       "       'STREET2', 'OFFSET', 'ROAD_CLASS', 'DISTRICT', 'WARDNUM', 'DIVISION',\n",
       "       'LATITUDE', 'LONGITUDE', 'LOCCOORD', 'ACCLOC', 'TRAFFCTL', 'VISIBILITY',\n",
       "       'LIGHT', 'RDSFCOND', 'ACCLASS', 'IMPACTYPE', 'INVTYPE', 'INVAGE',\n",
       "       'INJURY', 'FATAL_NO', 'INITDIR', 'VEHTYPE', 'MANOEUVER', 'DRIVACT',\n",
       "       'DRIVCOND', 'PEDTYPE', 'PEDACT', 'PEDCOND', 'CYCLISTYPE', 'CYCACT',\n",
       "       'CYCCOND', 'PEDESTRIAN', 'CYCLIST', 'AUTOMOBILE', 'MOTORCYCLE', 'TRUCK',\n",
       "       'TRSN_CITY_VEH', 'EMERG_VEH', 'PASSENGER', 'SPEEDING', 'AG_DRIV',\n",
       "       'REDLIGHT', 'ALCOHOL', 'DISABILITY', 'POLICE_DIVISION', 'HOOD_ID',\n",
       "       'NEIGHBOURHOOD', 'ObjectId'],\n",
       "      dtype='object')"
      ]
     },
     "execution_count": 3,
     "metadata": {},
     "output_type": "execute_result"
    }
   ],
   "source": [
    "ksi_df.columns"
   ]
  },
  {
   "cell_type": "code",
   "execution_count": 4,
   "metadata": {
    "scrolled": true
   },
   "outputs": [
    {
     "name": "stdout",
     "output_type": "stream",
     "text": [
      "X has 0 null values\n",
      "Y has 0 null values\n",
      "INDEX_ has 0 null values\n",
      "ACCNUM has 0 null values\n",
      "YEAR has 0 null values\n",
      "DATE has 0 null values\n",
      "TIME has 0 null values\n",
      "HOUR has 0 null values\n",
      "STREET1 has 0 null values\n",
      "STREET2 has 1510 null values\n",
      "OFFSET has 14114 null values\n",
      "ROAD_CLASS has 497 null values\n",
      "DISTRICT has 141 null values\n",
      "WARDNUM has 196 null values\n",
      "DIVISION has 196 null values\n",
      "LATITUDE has 0 null values\n",
      "LONGITUDE has 0 null values\n",
      "LOCCOORD has 105 null values\n",
      "ACCLOC has 5450 null values\n",
      "TRAFFCTL has 29 null values\n",
      "VISIBILITY has 18 null values\n",
      "LIGHT has 0 null values\n",
      "RDSFCOND has 23 null values\n",
      "ACCLASS has 0 null values\n",
      "IMPACTYPE has 4 null values\n",
      "INVTYPE has 12 null values\n",
      "INVAGE has 0 null values\n",
      "INJURY has 1612 null values\n",
      "FATAL_NO has 16147 null values\n",
      "INITDIR has 4894 null values\n",
      "VEHTYPE has 2813 null values\n",
      "MANOEUVER has 7233 null values\n",
      "DRIVACT has 8398 null values\n",
      "DRIVCOND has 8396 null values\n",
      "PEDTYPE has 14074 null values\n",
      "PEDACT has 14081 null values\n",
      "PEDCOND has 14025 null values\n",
      "CYCLISTYPE has 16160 null values\n",
      "CYCACT has 16153 null values\n",
      "CYCCOND has 16154 null values\n",
      "PEDESTRIAN has 10033 null values\n",
      "CYCLIST has 15081 null values\n",
      "AUTOMOBILE has 1552 null values\n",
      "MOTORCYCLE has 15476 null values\n",
      "TRUCK has 15818 null values\n",
      "TRSN_CITY_VEH has 15849 null values\n",
      "EMERG_VEH has 16829 null values\n",
      "PASSENGER has 10498 null values\n",
      "SPEEDING has 14575 null values\n",
      "AG_DRIV has 8157 null values\n",
      "REDLIGHT has 15451 null values\n",
      "ALCOHOL has 16121 null values\n",
      "DISABILITY has 16392 null values\n",
      "POLICE_DIVISION has 0 null values\n",
      "HOOD_ID has 0 null values\n",
      "NEIGHBOURHOOD has 0 null values\n",
      "ObjectId has 0 null values\n"
     ]
    }
   ],
   "source": [
    "for column in ksi_df.columns:\n",
    "    print(f\"{column} has {len(ksi_df[ksi_df[column] == '<Null>'])} null values\")"
   ]
  },
  {
   "cell_type": "markdown",
   "metadata": {},
   "source": [
    "## Drop Columns"
   ]
  },
  {
   "cell_type": "code",
   "execution_count": 5,
   "metadata": {
    "scrolled": false
   },
   "outputs": [
    {
     "data": {
      "text/html": [
       "<div>\n",
       "<style scoped>\n",
       "    .dataframe tbody tr th:only-of-type {\n",
       "        vertical-align: middle;\n",
       "    }\n",
       "\n",
       "    .dataframe tbody tr th {\n",
       "        vertical-align: top;\n",
       "    }\n",
       "\n",
       "    .dataframe thead th {\n",
       "        text-align: right;\n",
       "    }\n",
       "</style>\n",
       "<table border=\"1\" class=\"dataframe\">\n",
       "  <thead>\n",
       "    <tr style=\"text-align: right;\">\n",
       "      <th></th>\n",
       "      <th>ACCNUM</th>\n",
       "      <th>YEAR</th>\n",
       "      <th>DATE</th>\n",
       "      <th>HOUR</th>\n",
       "      <th>ROAD_CLASS</th>\n",
       "      <th>DISTRICT</th>\n",
       "      <th>LATITUDE</th>\n",
       "      <th>LONGITUDE</th>\n",
       "      <th>LOCCOORD</th>\n",
       "      <th>TRAFFCTL</th>\n",
       "      <th>...</th>\n",
       "      <th>PASSENGER</th>\n",
       "      <th>SPEEDING</th>\n",
       "      <th>AG_DRIV</th>\n",
       "      <th>REDLIGHT</th>\n",
       "      <th>ALCOHOL</th>\n",
       "      <th>DISABILITY</th>\n",
       "      <th>POLICE_DIVISION</th>\n",
       "      <th>HOOD_ID</th>\n",
       "      <th>NEIGHBOURHOOD</th>\n",
       "      <th>ObjectId</th>\n",
       "    </tr>\n",
       "  </thead>\n",
       "  <tbody>\n",
       "    <tr>\n",
       "      <th>0</th>\n",
       "      <td>892658</td>\n",
       "      <td>2006</td>\n",
       "      <td>2006/03/11 05:00:00+00</td>\n",
       "      <td>8</td>\n",
       "      <td>Major Arterial</td>\n",
       "      <td>Toronto and East York</td>\n",
       "      <td>43.656345</td>\n",
       "      <td>-79.452490</td>\n",
       "      <td>Intersection</td>\n",
       "      <td>Traffic Signal</td>\n",
       "      <td>...</td>\n",
       "      <td>&lt;Null&gt;</td>\n",
       "      <td>&lt;Null&gt;</td>\n",
       "      <td>Yes</td>\n",
       "      <td>&lt;Null&gt;</td>\n",
       "      <td>&lt;Null&gt;</td>\n",
       "      <td>&lt;Null&gt;</td>\n",
       "      <td>D11</td>\n",
       "      <td>88</td>\n",
       "      <td>High Park North (88)</td>\n",
       "      <td>1</td>\n",
       "    </tr>\n",
       "    <tr>\n",
       "      <th>1</th>\n",
       "      <td>892658</td>\n",
       "      <td>2006</td>\n",
       "      <td>2006/03/11 05:00:00+00</td>\n",
       "      <td>8</td>\n",
       "      <td>Major Arterial</td>\n",
       "      <td>Toronto and East York</td>\n",
       "      <td>43.656345</td>\n",
       "      <td>-79.452490</td>\n",
       "      <td>Intersection</td>\n",
       "      <td>Traffic Signal</td>\n",
       "      <td>...</td>\n",
       "      <td>&lt;Null&gt;</td>\n",
       "      <td>&lt;Null&gt;</td>\n",
       "      <td>Yes</td>\n",
       "      <td>&lt;Null&gt;</td>\n",
       "      <td>&lt;Null&gt;</td>\n",
       "      <td>&lt;Null&gt;</td>\n",
       "      <td>D11</td>\n",
       "      <td>88</td>\n",
       "      <td>High Park North (88)</td>\n",
       "      <td>2</td>\n",
       "    </tr>\n",
       "    <tr>\n",
       "      <th>2</th>\n",
       "      <td>892810</td>\n",
       "      <td>2006</td>\n",
       "      <td>2006/03/11 05:00:00+00</td>\n",
       "      <td>9</td>\n",
       "      <td>Major Arterial</td>\n",
       "      <td>Scarborough</td>\n",
       "      <td>43.801943</td>\n",
       "      <td>-79.199786</td>\n",
       "      <td>Intersection</td>\n",
       "      <td>Traffic Signal</td>\n",
       "      <td>...</td>\n",
       "      <td>&lt;Null&gt;</td>\n",
       "      <td>&lt;Null&gt;</td>\n",
       "      <td>Yes</td>\n",
       "      <td>Yes</td>\n",
       "      <td>&lt;Null&gt;</td>\n",
       "      <td>&lt;Null&gt;</td>\n",
       "      <td>D42</td>\n",
       "      <td>131</td>\n",
       "      <td>Rouge (131)</td>\n",
       "      <td>3</td>\n",
       "    </tr>\n",
       "    <tr>\n",
       "      <th>3</th>\n",
       "      <td>892810</td>\n",
       "      <td>2006</td>\n",
       "      <td>2006/03/11 05:00:00+00</td>\n",
       "      <td>9</td>\n",
       "      <td>Major Arterial</td>\n",
       "      <td>Scarborough</td>\n",
       "      <td>43.801943</td>\n",
       "      <td>-79.199786</td>\n",
       "      <td>Intersection</td>\n",
       "      <td>Traffic Signal</td>\n",
       "      <td>...</td>\n",
       "      <td>&lt;Null&gt;</td>\n",
       "      <td>&lt;Null&gt;</td>\n",
       "      <td>Yes</td>\n",
       "      <td>Yes</td>\n",
       "      <td>&lt;Null&gt;</td>\n",
       "      <td>&lt;Null&gt;</td>\n",
       "      <td>D42</td>\n",
       "      <td>131</td>\n",
       "      <td>Rouge (131)</td>\n",
       "      <td>4</td>\n",
       "    </tr>\n",
       "    <tr>\n",
       "      <th>4</th>\n",
       "      <td>892682</td>\n",
       "      <td>2006</td>\n",
       "      <td>2006/03/12 05:00:00+00</td>\n",
       "      <td>2</td>\n",
       "      <td>Major Arterial</td>\n",
       "      <td>Scarborough</td>\n",
       "      <td>43.734945</td>\n",
       "      <td>-79.256190</td>\n",
       "      <td>Mid-Block</td>\n",
       "      <td>No Control</td>\n",
       "      <td>...</td>\n",
       "      <td>&lt;Null&gt;</td>\n",
       "      <td>&lt;Null&gt;</td>\n",
       "      <td>&lt;Null&gt;</td>\n",
       "      <td>&lt;Null&gt;</td>\n",
       "      <td>Yes</td>\n",
       "      <td>&lt;Null&gt;</td>\n",
       "      <td>D41</td>\n",
       "      <td>138</td>\n",
       "      <td>Eglinton East (138)</td>\n",
       "      <td>5</td>\n",
       "    </tr>\n",
       "  </tbody>\n",
       "</table>\n",
       "<p>5 rows × 37 columns</p>\n",
       "</div>"
      ],
      "text/plain": [
       "   ACCNUM  YEAR                    DATE  HOUR      ROAD_CLASS  \\\n",
       "0  892658  2006  2006/03/11 05:00:00+00     8  Major Arterial   \n",
       "1  892658  2006  2006/03/11 05:00:00+00     8  Major Arterial   \n",
       "2  892810  2006  2006/03/11 05:00:00+00     9  Major Arterial   \n",
       "3  892810  2006  2006/03/11 05:00:00+00     9  Major Arterial   \n",
       "4  892682  2006  2006/03/12 05:00:00+00     2  Major Arterial   \n",
       "\n",
       "                DISTRICT   LATITUDE  LONGITUDE      LOCCOORD        TRAFFCTL  \\\n",
       "0  Toronto and East York  43.656345 -79.452490  Intersection  Traffic Signal   \n",
       "1  Toronto and East York  43.656345 -79.452490  Intersection  Traffic Signal   \n",
       "2            Scarborough  43.801943 -79.199786  Intersection  Traffic Signal   \n",
       "3            Scarborough  43.801943 -79.199786  Intersection  Traffic Signal   \n",
       "4            Scarborough  43.734945 -79.256190     Mid-Block      No Control   \n",
       "\n",
       "   ... PASSENGER SPEEDING AG_DRIV REDLIGHT ALCOHOL DISABILITY POLICE_DIVISION  \\\n",
       "0  ...    <Null>   <Null>     Yes   <Null>  <Null>     <Null>             D11   \n",
       "1  ...    <Null>   <Null>     Yes   <Null>  <Null>     <Null>             D11   \n",
       "2  ...    <Null>   <Null>     Yes      Yes  <Null>     <Null>             D42   \n",
       "3  ...    <Null>   <Null>     Yes      Yes  <Null>     <Null>             D42   \n",
       "4  ...    <Null>   <Null>  <Null>   <Null>     Yes     <Null>             D41   \n",
       "\n",
       "  HOOD_ID         NEIGHBOURHOOD ObjectId  \n",
       "0      88  High Park North (88)        1  \n",
       "1      88  High Park North (88)        2  \n",
       "2     131           Rouge (131)        3  \n",
       "3     131           Rouge (131)        4  \n",
       "4     138   Eglinton East (138)        5  \n",
       "\n",
       "[5 rows x 37 columns]"
      ]
     },
     "execution_count": 5,
     "metadata": {},
     "output_type": "execute_result"
    }
   ],
   "source": [
    "drop_columns = ['X', 'Y', 'INDEX_','TIME', 'STREET1',\n",
    "       'STREET2', 'OFFSET', 'WARDNUM', 'DIVISION', 'ACCLOC', 'FATAL_NO', 'INITDIR', 'DRIVACT',\n",
    "       'DRIVCOND', 'PEDTYPE', 'PEDACT', 'PEDCOND', 'CYCLISTYPE', 'CYCACT',\n",
    "       'CYCCOND']\n",
    "\n",
    "new_ksi_df = ksi_df.drop(columns=drop_columns, axis=1)\n",
    "new_ksi_df.head()"
   ]
  },
  {
   "cell_type": "code",
   "execution_count": 6,
   "metadata": {
    "scrolled": true
   },
   "outputs": [
    {
     "data": {
      "text/plain": [
       "ACCNUM               int64\n",
       "YEAR                 int64\n",
       "DATE                object\n",
       "HOUR                 int64\n",
       "ROAD_CLASS          object\n",
       "DISTRICT            object\n",
       "LATITUDE           float64\n",
       "LONGITUDE          float64\n",
       "LOCCOORD            object\n",
       "TRAFFCTL            object\n",
       "VISIBILITY          object\n",
       "LIGHT               object\n",
       "RDSFCOND            object\n",
       "ACCLASS             object\n",
       "IMPACTYPE           object\n",
       "INVTYPE             object\n",
       "INVAGE              object\n",
       "INJURY              object\n",
       "VEHTYPE             object\n",
       "MANOEUVER           object\n",
       "PEDESTRIAN          object\n",
       "CYCLIST             object\n",
       "AUTOMOBILE          object\n",
       "MOTORCYCLE          object\n",
       "TRUCK               object\n",
       "TRSN_CITY_VEH       object\n",
       "EMERG_VEH           object\n",
       "PASSENGER           object\n",
       "SPEEDING            object\n",
       "AG_DRIV             object\n",
       "REDLIGHT            object\n",
       "ALCOHOL             object\n",
       "DISABILITY          object\n",
       "POLICE_DIVISION     object\n",
       "HOOD_ID              int64\n",
       "NEIGHBOURHOOD       object\n",
       "ObjectId             int64\n",
       "dtype: object"
      ]
     },
     "execution_count": 6,
     "metadata": {},
     "output_type": "execute_result"
    }
   ],
   "source": [
    "new_ksi_df.dtypes"
   ]
  },
  {
   "cell_type": "code",
   "execution_count": 7,
   "metadata": {
    "scrolled": true
   },
   "outputs": [
    {
     "data": {
      "text/html": [
       "<div>\n",
       "<style scoped>\n",
       "    .dataframe tbody tr th:only-of-type {\n",
       "        vertical-align: middle;\n",
       "    }\n",
       "\n",
       "    .dataframe tbody tr th {\n",
       "        vertical-align: top;\n",
       "    }\n",
       "\n",
       "    .dataframe thead th {\n",
       "        text-align: right;\n",
       "    }\n",
       "</style>\n",
       "<table border=\"1\" class=\"dataframe\">\n",
       "  <thead>\n",
       "    <tr style=\"text-align: right;\">\n",
       "      <th></th>\n",
       "      <th>ACCNUM</th>\n",
       "      <th>YEAR</th>\n",
       "      <th>DATE</th>\n",
       "      <th>HOUR</th>\n",
       "      <th>ROAD_CLASS</th>\n",
       "      <th>DISTRICT</th>\n",
       "      <th>LATITUDE</th>\n",
       "      <th>LONGITUDE</th>\n",
       "      <th>LOCCOORD</th>\n",
       "      <th>TRAFFCTL</th>\n",
       "      <th>...</th>\n",
       "      <th>PASSENGER</th>\n",
       "      <th>SPEEDING</th>\n",
       "      <th>AG_DRIV</th>\n",
       "      <th>REDLIGHT</th>\n",
       "      <th>ALCOHOL</th>\n",
       "      <th>DISABILITY</th>\n",
       "      <th>POLICE_DIVISION</th>\n",
       "      <th>HOOD_ID</th>\n",
       "      <th>NEIGHBOURHOOD</th>\n",
       "      <th>ObjectId</th>\n",
       "    </tr>\n",
       "  </thead>\n",
       "  <tbody>\n",
       "    <tr>\n",
       "      <th>0</th>\n",
       "      <td>892658</td>\n",
       "      <td>2006</td>\n",
       "      <td>2006-03-11 05:00:00+00:00</td>\n",
       "      <td>8</td>\n",
       "      <td>Major Arterial</td>\n",
       "      <td>Toronto and East York</td>\n",
       "      <td>43.656345</td>\n",
       "      <td>-79.45249</td>\n",
       "      <td>Intersection</td>\n",
       "      <td>Traffic Signal</td>\n",
       "      <td>...</td>\n",
       "      <td>&lt;Null&gt;</td>\n",
       "      <td>&lt;Null&gt;</td>\n",
       "      <td>Yes</td>\n",
       "      <td>&lt;Null&gt;</td>\n",
       "      <td>&lt;Null&gt;</td>\n",
       "      <td>&lt;Null&gt;</td>\n",
       "      <td>D11</td>\n",
       "      <td>88</td>\n",
       "      <td>High Park North (88)</td>\n",
       "      <td>1</td>\n",
       "    </tr>\n",
       "  </tbody>\n",
       "</table>\n",
       "<p>1 rows × 37 columns</p>\n",
       "</div>"
      ],
      "text/plain": [
       "   ACCNUM  YEAR                      DATE  HOUR      ROAD_CLASS  \\\n",
       "0  892658  2006 2006-03-11 05:00:00+00:00     8  Major Arterial   \n",
       "\n",
       "                DISTRICT   LATITUDE  LONGITUDE      LOCCOORD        TRAFFCTL  \\\n",
       "0  Toronto and East York  43.656345  -79.45249  Intersection  Traffic Signal   \n",
       "\n",
       "   ... PASSENGER SPEEDING AG_DRIV REDLIGHT ALCOHOL DISABILITY POLICE_DIVISION  \\\n",
       "0  ...    <Null>   <Null>     Yes   <Null>  <Null>     <Null>             D11   \n",
       "\n",
       "  HOOD_ID         NEIGHBOURHOOD ObjectId  \n",
       "0      88  High Park North (88)        1  \n",
       "\n",
       "[1 rows x 37 columns]"
      ]
     },
     "execution_count": 7,
     "metadata": {},
     "output_type": "execute_result"
    }
   ],
   "source": [
    "\n",
    "new_ksi_df['DATE'] =  pd.to_datetime(new_ksi_df['DATE'])\n",
    "new_ksi_df.head(1)"
   ]
  },
  {
   "cell_type": "code",
   "execution_count": 8,
   "metadata": {},
   "outputs": [],
   "source": [
    "new_ksi_df['WEEKDAY'] = pd.to_datetime(new_ksi_df['DATE']).dt.dayofweek"
   ]
  },
  {
   "cell_type": "code",
   "execution_count": 9,
   "metadata": {
    "scrolled": false
   },
   "outputs": [
    {
     "data": {
      "text/plain": [
       "4    2750\n",
       "1    2494\n",
       "2    2406\n",
       "3    2331\n",
       "5    2309\n",
       "6    2300\n",
       "0    2270\n",
       "Name: WEEKDAY, dtype: int64"
      ]
     },
     "execution_count": 9,
     "metadata": {},
     "output_type": "execute_result"
    }
   ],
   "source": [
    "new_ksi_df['WEEKDAY'].value_counts()"
   ]
  },
  {
   "cell_type": "code",
   "execution_count": 10,
   "metadata": {
    "scrolled": false
   },
   "outputs": [
    {
     "data": {
      "text/html": [
       "<div>\n",
       "<style scoped>\n",
       "    .dataframe tbody tr th:only-of-type {\n",
       "        vertical-align: middle;\n",
       "    }\n",
       "\n",
       "    .dataframe tbody tr th {\n",
       "        vertical-align: top;\n",
       "    }\n",
       "\n",
       "    .dataframe thead th {\n",
       "        text-align: right;\n",
       "    }\n",
       "</style>\n",
       "<table border=\"1\" class=\"dataframe\">\n",
       "  <thead>\n",
       "    <tr style=\"text-align: right;\">\n",
       "      <th></th>\n",
       "      <th>ACCNUM</th>\n",
       "      <th>YEAR</th>\n",
       "      <th>DATE</th>\n",
       "      <th>HOUR</th>\n",
       "      <th>ROAD_CLASS</th>\n",
       "      <th>DISTRICT</th>\n",
       "      <th>LATITUDE</th>\n",
       "      <th>LONGITUDE</th>\n",
       "      <th>LOCCOORD</th>\n",
       "      <th>TRAFFCTL</th>\n",
       "      <th>...</th>\n",
       "      <th>AG_DRIV</th>\n",
       "      <th>REDLIGHT</th>\n",
       "      <th>ALCOHOL</th>\n",
       "      <th>DISABILITY</th>\n",
       "      <th>POLICE_DIVISION</th>\n",
       "      <th>HOOD_ID</th>\n",
       "      <th>NEIGHBOURHOOD</th>\n",
       "      <th>ObjectId</th>\n",
       "      <th>WEEKDAY</th>\n",
       "      <th>IS_WEEKEND</th>\n",
       "    </tr>\n",
       "  </thead>\n",
       "  <tbody>\n",
       "    <tr>\n",
       "      <th>16855</th>\n",
       "      <td>1636966</td>\n",
       "      <td>2020</td>\n",
       "      <td>2020-08-30 04:00:00+00:00</td>\n",
       "      <td>13</td>\n",
       "      <td>&lt;Null&gt;</td>\n",
       "      <td>&lt;Null&gt;</td>\n",
       "      <td>43.714793</td>\n",
       "      <td>-79.238926</td>\n",
       "      <td>Mid-Block</td>\n",
       "      <td>No Control</td>\n",
       "      <td>...</td>\n",
       "      <td>Yes</td>\n",
       "      <td>&lt;Null&gt;</td>\n",
       "      <td>&lt;Null&gt;</td>\n",
       "      <td>&lt;Null&gt;</td>\n",
       "      <td>D41</td>\n",
       "      <td>123</td>\n",
       "      <td>Cliffcrest (123)</td>\n",
       "      <td>16856</td>\n",
       "      <td>6</td>\n",
       "      <td>1</td>\n",
       "    </tr>\n",
       "    <tr>\n",
       "      <th>16856</th>\n",
       "      <td>1650701</td>\n",
       "      <td>2020</td>\n",
       "      <td>2020-09-01 04:00:00+00:00</td>\n",
       "      <td>12</td>\n",
       "      <td>Major Arterial</td>\n",
       "      <td>Scarborough</td>\n",
       "      <td>43.740256</td>\n",
       "      <td>-79.232021</td>\n",
       "      <td>Intersection</td>\n",
       "      <td>Traffic Signal</td>\n",
       "      <td>...</td>\n",
       "      <td>Yes</td>\n",
       "      <td>&lt;Null&gt;</td>\n",
       "      <td>&lt;Null&gt;</td>\n",
       "      <td>&lt;Null&gt;</td>\n",
       "      <td>D43</td>\n",
       "      <td>138</td>\n",
       "      <td>Eglinton East (138)</td>\n",
       "      <td>16857</td>\n",
       "      <td>1</td>\n",
       "      <td>0</td>\n",
       "    </tr>\n",
       "    <tr>\n",
       "      <th>16857</th>\n",
       "      <td>1650701</td>\n",
       "      <td>2020</td>\n",
       "      <td>2020-09-01 04:00:00+00:00</td>\n",
       "      <td>12</td>\n",
       "      <td>Major Arterial</td>\n",
       "      <td>Scarborough</td>\n",
       "      <td>43.740256</td>\n",
       "      <td>-79.232021</td>\n",
       "      <td>Intersection</td>\n",
       "      <td>Traffic Signal</td>\n",
       "      <td>...</td>\n",
       "      <td>Yes</td>\n",
       "      <td>&lt;Null&gt;</td>\n",
       "      <td>&lt;Null&gt;</td>\n",
       "      <td>&lt;Null&gt;</td>\n",
       "      <td>D43</td>\n",
       "      <td>138</td>\n",
       "      <td>Eglinton East (138)</td>\n",
       "      <td>16858</td>\n",
       "      <td>1</td>\n",
       "      <td>0</td>\n",
       "    </tr>\n",
       "    <tr>\n",
       "      <th>16858</th>\n",
       "      <td>1650701</td>\n",
       "      <td>2020</td>\n",
       "      <td>2020-09-01 04:00:00+00:00</td>\n",
       "      <td>12</td>\n",
       "      <td>Major Arterial</td>\n",
       "      <td>Scarborough</td>\n",
       "      <td>43.740256</td>\n",
       "      <td>-79.232021</td>\n",
       "      <td>Intersection</td>\n",
       "      <td>Traffic Signal</td>\n",
       "      <td>...</td>\n",
       "      <td>Yes</td>\n",
       "      <td>&lt;Null&gt;</td>\n",
       "      <td>&lt;Null&gt;</td>\n",
       "      <td>&lt;Null&gt;</td>\n",
       "      <td>D43</td>\n",
       "      <td>138</td>\n",
       "      <td>Eglinton East (138)</td>\n",
       "      <td>16859</td>\n",
       "      <td>1</td>\n",
       "      <td>0</td>\n",
       "    </tr>\n",
       "    <tr>\n",
       "      <th>16859</th>\n",
       "      <td>1650875</td>\n",
       "      <td>2020</td>\n",
       "      <td>2020-09-01 04:00:00+00:00</td>\n",
       "      <td>12</td>\n",
       "      <td>&lt;Null&gt;</td>\n",
       "      <td>&lt;Null&gt;</td>\n",
       "      <td>43.660144</td>\n",
       "      <td>-79.434086</td>\n",
       "      <td>Mid-Block</td>\n",
       "      <td>No Control</td>\n",
       "      <td>...</td>\n",
       "      <td>&lt;Null&gt;</td>\n",
       "      <td>&lt;Null&gt;</td>\n",
       "      <td>&lt;Null&gt;</td>\n",
       "      <td>&lt;Null&gt;</td>\n",
       "      <td>D14</td>\n",
       "      <td>93</td>\n",
       "      <td>Dovercourt-Wallace Emerson-Junction (93)</td>\n",
       "      <td>16860</td>\n",
       "      <td>1</td>\n",
       "      <td>0</td>\n",
       "    </tr>\n",
       "  </tbody>\n",
       "</table>\n",
       "<p>5 rows × 39 columns</p>\n",
       "</div>"
      ],
      "text/plain": [
       "        ACCNUM  YEAR                      DATE  HOUR      ROAD_CLASS  \\\n",
       "16855  1636966  2020 2020-08-30 04:00:00+00:00    13          <Null>   \n",
       "16856  1650701  2020 2020-09-01 04:00:00+00:00    12  Major Arterial   \n",
       "16857  1650701  2020 2020-09-01 04:00:00+00:00    12  Major Arterial   \n",
       "16858  1650701  2020 2020-09-01 04:00:00+00:00    12  Major Arterial   \n",
       "16859  1650875  2020 2020-09-01 04:00:00+00:00    12          <Null>   \n",
       "\n",
       "          DISTRICT   LATITUDE  LONGITUDE      LOCCOORD        TRAFFCTL  ...  \\\n",
       "16855       <Null>  43.714793 -79.238926     Mid-Block      No Control  ...   \n",
       "16856  Scarborough  43.740256 -79.232021  Intersection  Traffic Signal  ...   \n",
       "16857  Scarborough  43.740256 -79.232021  Intersection  Traffic Signal  ...   \n",
       "16858  Scarborough  43.740256 -79.232021  Intersection  Traffic Signal  ...   \n",
       "16859       <Null>  43.660144 -79.434086     Mid-Block      No Control  ...   \n",
       "\n",
       "      AG_DRIV REDLIGHT ALCOHOL DISABILITY POLICE_DIVISION HOOD_ID  \\\n",
       "16855     Yes   <Null>  <Null>     <Null>             D41     123   \n",
       "16856     Yes   <Null>  <Null>     <Null>             D43     138   \n",
       "16857     Yes   <Null>  <Null>     <Null>             D43     138   \n",
       "16858     Yes   <Null>  <Null>     <Null>             D43     138   \n",
       "16859  <Null>   <Null>  <Null>     <Null>             D14      93   \n",
       "\n",
       "                                  NEIGHBOURHOOD ObjectId WEEKDAY IS_WEEKEND  \n",
       "16855                          Cliffcrest (123)    16856       6          1  \n",
       "16856                       Eglinton East (138)    16857       1          0  \n",
       "16857                       Eglinton East (138)    16858       1          0  \n",
       "16858                       Eglinton East (138)    16859       1          0  \n",
       "16859  Dovercourt-Wallace Emerson-Junction (93)    16860       1          0  \n",
       "\n",
       "[5 rows x 39 columns]"
      ]
     },
     "execution_count": 10,
     "metadata": {},
     "output_type": "execute_result"
    }
   ],
   "source": [
    "new_ksi_df['IS_WEEKEND'] = (new_ksi_df['WEEKDAY'] > 4).astype(int)\n",
    "new_ksi_df.tail()"
   ]
  },
  {
   "cell_type": "code",
   "execution_count": 11,
   "metadata": {},
   "outputs": [],
   "source": [
    "for x in new_ksi_df['WEEKDAY']:\n",
    "    new_ksi_df['WEEKDAY'].replace([0,1,2,3,4,5,6], ['Monday','Tuesday', 'Wednesday', 'Thursday', 'Friday', 'Saturday','Sunday'], inplace=True)"
   ]
  },
  {
   "cell_type": "code",
   "execution_count": 12,
   "metadata": {},
   "outputs": [
    {
     "data": {
      "text/html": [
       "<div>\n",
       "<style scoped>\n",
       "    .dataframe tbody tr th:only-of-type {\n",
       "        vertical-align: middle;\n",
       "    }\n",
       "\n",
       "    .dataframe tbody tr th {\n",
       "        vertical-align: top;\n",
       "    }\n",
       "\n",
       "    .dataframe thead th {\n",
       "        text-align: right;\n",
       "    }\n",
       "</style>\n",
       "<table border=\"1\" class=\"dataframe\">\n",
       "  <thead>\n",
       "    <tr style=\"text-align: right;\">\n",
       "      <th></th>\n",
       "      <th>ACCNUM</th>\n",
       "      <th>YEAR</th>\n",
       "      <th>DATE</th>\n",
       "      <th>HOUR</th>\n",
       "      <th>ROAD_CLASS</th>\n",
       "      <th>DISTRICT</th>\n",
       "      <th>LATITUDE</th>\n",
       "      <th>LONGITUDE</th>\n",
       "      <th>LOCCOORD</th>\n",
       "      <th>TRAFFCTL</th>\n",
       "      <th>...</th>\n",
       "      <th>AG_DRIV</th>\n",
       "      <th>REDLIGHT</th>\n",
       "      <th>ALCOHOL</th>\n",
       "      <th>DISABILITY</th>\n",
       "      <th>POLICE_DIVISION</th>\n",
       "      <th>HOOD_ID</th>\n",
       "      <th>NEIGHBOURHOOD</th>\n",
       "      <th>ObjectId</th>\n",
       "      <th>WEEKDAY</th>\n",
       "      <th>IS_WEEKEND</th>\n",
       "    </tr>\n",
       "  </thead>\n",
       "  <tbody>\n",
       "    <tr>\n",
       "      <th>16855</th>\n",
       "      <td>1636966</td>\n",
       "      <td>2020</td>\n",
       "      <td>2020-08-30 04:00:00+00:00</td>\n",
       "      <td>13</td>\n",
       "      <td>&lt;Null&gt;</td>\n",
       "      <td>&lt;Null&gt;</td>\n",
       "      <td>43.714793</td>\n",
       "      <td>-79.238926</td>\n",
       "      <td>Mid-Block</td>\n",
       "      <td>No Control</td>\n",
       "      <td>...</td>\n",
       "      <td>Yes</td>\n",
       "      <td>&lt;Null&gt;</td>\n",
       "      <td>&lt;Null&gt;</td>\n",
       "      <td>&lt;Null&gt;</td>\n",
       "      <td>D41</td>\n",
       "      <td>123</td>\n",
       "      <td>Cliffcrest (123)</td>\n",
       "      <td>16856</td>\n",
       "      <td>Sunday</td>\n",
       "      <td>1</td>\n",
       "    </tr>\n",
       "    <tr>\n",
       "      <th>16856</th>\n",
       "      <td>1650701</td>\n",
       "      <td>2020</td>\n",
       "      <td>2020-09-01 04:00:00+00:00</td>\n",
       "      <td>12</td>\n",
       "      <td>Major Arterial</td>\n",
       "      <td>Scarborough</td>\n",
       "      <td>43.740256</td>\n",
       "      <td>-79.232021</td>\n",
       "      <td>Intersection</td>\n",
       "      <td>Traffic Signal</td>\n",
       "      <td>...</td>\n",
       "      <td>Yes</td>\n",
       "      <td>&lt;Null&gt;</td>\n",
       "      <td>&lt;Null&gt;</td>\n",
       "      <td>&lt;Null&gt;</td>\n",
       "      <td>D43</td>\n",
       "      <td>138</td>\n",
       "      <td>Eglinton East (138)</td>\n",
       "      <td>16857</td>\n",
       "      <td>Tuesday</td>\n",
       "      <td>0</td>\n",
       "    </tr>\n",
       "    <tr>\n",
       "      <th>16857</th>\n",
       "      <td>1650701</td>\n",
       "      <td>2020</td>\n",
       "      <td>2020-09-01 04:00:00+00:00</td>\n",
       "      <td>12</td>\n",
       "      <td>Major Arterial</td>\n",
       "      <td>Scarborough</td>\n",
       "      <td>43.740256</td>\n",
       "      <td>-79.232021</td>\n",
       "      <td>Intersection</td>\n",
       "      <td>Traffic Signal</td>\n",
       "      <td>...</td>\n",
       "      <td>Yes</td>\n",
       "      <td>&lt;Null&gt;</td>\n",
       "      <td>&lt;Null&gt;</td>\n",
       "      <td>&lt;Null&gt;</td>\n",
       "      <td>D43</td>\n",
       "      <td>138</td>\n",
       "      <td>Eglinton East (138)</td>\n",
       "      <td>16858</td>\n",
       "      <td>Tuesday</td>\n",
       "      <td>0</td>\n",
       "    </tr>\n",
       "    <tr>\n",
       "      <th>16858</th>\n",
       "      <td>1650701</td>\n",
       "      <td>2020</td>\n",
       "      <td>2020-09-01 04:00:00+00:00</td>\n",
       "      <td>12</td>\n",
       "      <td>Major Arterial</td>\n",
       "      <td>Scarborough</td>\n",
       "      <td>43.740256</td>\n",
       "      <td>-79.232021</td>\n",
       "      <td>Intersection</td>\n",
       "      <td>Traffic Signal</td>\n",
       "      <td>...</td>\n",
       "      <td>Yes</td>\n",
       "      <td>&lt;Null&gt;</td>\n",
       "      <td>&lt;Null&gt;</td>\n",
       "      <td>&lt;Null&gt;</td>\n",
       "      <td>D43</td>\n",
       "      <td>138</td>\n",
       "      <td>Eglinton East (138)</td>\n",
       "      <td>16859</td>\n",
       "      <td>Tuesday</td>\n",
       "      <td>0</td>\n",
       "    </tr>\n",
       "    <tr>\n",
       "      <th>16859</th>\n",
       "      <td>1650875</td>\n",
       "      <td>2020</td>\n",
       "      <td>2020-09-01 04:00:00+00:00</td>\n",
       "      <td>12</td>\n",
       "      <td>&lt;Null&gt;</td>\n",
       "      <td>&lt;Null&gt;</td>\n",
       "      <td>43.660144</td>\n",
       "      <td>-79.434086</td>\n",
       "      <td>Mid-Block</td>\n",
       "      <td>No Control</td>\n",
       "      <td>...</td>\n",
       "      <td>&lt;Null&gt;</td>\n",
       "      <td>&lt;Null&gt;</td>\n",
       "      <td>&lt;Null&gt;</td>\n",
       "      <td>&lt;Null&gt;</td>\n",
       "      <td>D14</td>\n",
       "      <td>93</td>\n",
       "      <td>Dovercourt-Wallace Emerson-Junction (93)</td>\n",
       "      <td>16860</td>\n",
       "      <td>Tuesday</td>\n",
       "      <td>0</td>\n",
       "    </tr>\n",
       "  </tbody>\n",
       "</table>\n",
       "<p>5 rows × 39 columns</p>\n",
       "</div>"
      ],
      "text/plain": [
       "        ACCNUM  YEAR                      DATE  HOUR      ROAD_CLASS  \\\n",
       "16855  1636966  2020 2020-08-30 04:00:00+00:00    13          <Null>   \n",
       "16856  1650701  2020 2020-09-01 04:00:00+00:00    12  Major Arterial   \n",
       "16857  1650701  2020 2020-09-01 04:00:00+00:00    12  Major Arterial   \n",
       "16858  1650701  2020 2020-09-01 04:00:00+00:00    12  Major Arterial   \n",
       "16859  1650875  2020 2020-09-01 04:00:00+00:00    12          <Null>   \n",
       "\n",
       "          DISTRICT   LATITUDE  LONGITUDE      LOCCOORD        TRAFFCTL  ...  \\\n",
       "16855       <Null>  43.714793 -79.238926     Mid-Block      No Control  ...   \n",
       "16856  Scarborough  43.740256 -79.232021  Intersection  Traffic Signal  ...   \n",
       "16857  Scarborough  43.740256 -79.232021  Intersection  Traffic Signal  ...   \n",
       "16858  Scarborough  43.740256 -79.232021  Intersection  Traffic Signal  ...   \n",
       "16859       <Null>  43.660144 -79.434086     Mid-Block      No Control  ...   \n",
       "\n",
       "      AG_DRIV REDLIGHT ALCOHOL DISABILITY POLICE_DIVISION HOOD_ID  \\\n",
       "16855     Yes   <Null>  <Null>     <Null>             D41     123   \n",
       "16856     Yes   <Null>  <Null>     <Null>             D43     138   \n",
       "16857     Yes   <Null>  <Null>     <Null>             D43     138   \n",
       "16858     Yes   <Null>  <Null>     <Null>             D43     138   \n",
       "16859  <Null>   <Null>  <Null>     <Null>             D14      93   \n",
       "\n",
       "                                  NEIGHBOURHOOD ObjectId  WEEKDAY IS_WEEKEND  \n",
       "16855                          Cliffcrest (123)    16856   Sunday          1  \n",
       "16856                       Eglinton East (138)    16857  Tuesday          0  \n",
       "16857                       Eglinton East (138)    16858  Tuesday          0  \n",
       "16858                       Eglinton East (138)    16859  Tuesday          0  \n",
       "16859  Dovercourt-Wallace Emerson-Junction (93)    16860  Tuesday          0  \n",
       "\n",
       "[5 rows x 39 columns]"
      ]
     },
     "execution_count": 12,
     "metadata": {},
     "output_type": "execute_result"
    }
   ],
   "source": [
    "new_ksi_df.tail()"
   ]
  },
  {
   "cell_type": "code",
   "execution_count": 13,
   "metadata": {},
   "outputs": [],
   "source": [
    "can_holidays = []\n",
    "x = range(2006,2021)\n",
    "for date in holidays.Canada(years=x, prov='ON').items():\n",
    "    can_holidays.append(str(date[0]))\n",
    "\n",
    "toronto_holiday = holidays.Canada(prov='ON')\n",
    "\n",
    "new_ksi_df['IS_HOLIDAY'] = [\n",
    "    1 if str(val).split()[0] in can_holidays else 0 for val in new_ksi_df['DATE']\n",
    "]\n",
    "\n",
    "new_ksi_df['HOLIDAY'] = [\n",
    "    toronto_holiday.get(str(val).split()[0]) if str(val).split()[0] in can_holidays \n",
    "    else 'None' for val in new_ksi_df['DATE']\n",
    "]"
   ]
  },
  {
   "cell_type": "code",
   "execution_count": 14,
   "metadata": {
    "scrolled": true
   },
   "outputs": [
    {
     "data": {
      "text/plain": [
       "None                         16431\n",
       "New Year's Day                  52\n",
       "Thanksgiving                    48\n",
       "Canada Day                      48\n",
       "Labour Day                      46\n",
       "Civic Holiday                   46\n",
       "Christmas Day                   45\n",
       "Good Friday                     39\n",
       "Family Day                      37\n",
       "Victoria Day                    37\n",
       "Canada Day (Observed)           13\n",
       "Boxing Day (Observed)           12\n",
       "Boxing Day                       4\n",
       "New Year's Day (Observed)        2\n",
       "Name: HOLIDAY, dtype: int64"
      ]
     },
     "execution_count": 14,
     "metadata": {},
     "output_type": "execute_result"
    }
   ],
   "source": [
    "new_ksi_df['HOLIDAY'].value_counts()"
   ]
  },
  {
   "cell_type": "code",
   "execution_count": 15,
   "metadata": {},
   "outputs": [],
   "source": [
    "for holiday in new_ksi_df['HOLIDAY']:\n",
    "    new_ksi_df['HOLIDAY'].replace(['Canada Day (Observed)','Boxing Day (Observed)', \"New Year's Day (Observed)\" ], ['Canada Day', 'Boxing Day', \"New Year's Day\"], inplace=True)"
   ]
  },
  {
   "cell_type": "code",
   "execution_count": 16,
   "metadata": {},
   "outputs": [
    {
     "data": {
      "text/plain": [
       "None              16431\n",
       "Canada Day           61\n",
       "New Year's Day       54\n",
       "Thanksgiving         48\n",
       "Labour Day           46\n",
       "Civic Holiday        46\n",
       "Christmas Day        45\n",
       "Good Friday          39\n",
       "Family Day           37\n",
       "Victoria Day         37\n",
       "Boxing Day           16\n",
       "Name: HOLIDAY, dtype: int64"
      ]
     },
     "execution_count": 16,
     "metadata": {},
     "output_type": "execute_result"
    }
   ],
   "source": [
    "new_ksi_df['HOLIDAY'].value_counts()"
   ]
  },
  {
   "cell_type": "code",
   "execution_count": 17,
   "metadata": {
    "scrolled": true
   },
   "outputs": [
    {
     "data": {
      "text/plain": [
       "ACCNUM                           int64\n",
       "YEAR                             int64\n",
       "DATE               datetime64[ns, UTC]\n",
       "HOUR                             int64\n",
       "ROAD_CLASS                      object\n",
       "DISTRICT                        object\n",
       "LATITUDE                       float64\n",
       "LONGITUDE                      float64\n",
       "LOCCOORD                        object\n",
       "TRAFFCTL                        object\n",
       "VISIBILITY                      object\n",
       "LIGHT                           object\n",
       "RDSFCOND                        object\n",
       "ACCLASS                         object\n",
       "IMPACTYPE                       object\n",
       "INVTYPE                         object\n",
       "INVAGE                          object\n",
       "INJURY                          object\n",
       "VEHTYPE                         object\n",
       "MANOEUVER                       object\n",
       "PEDESTRIAN                      object\n",
       "CYCLIST                         object\n",
       "AUTOMOBILE                      object\n",
       "MOTORCYCLE                      object\n",
       "TRUCK                           object\n",
       "TRSN_CITY_VEH                   object\n",
       "EMERG_VEH                       object\n",
       "PASSENGER                       object\n",
       "SPEEDING                        object\n",
       "AG_DRIV                         object\n",
       "REDLIGHT                        object\n",
       "ALCOHOL                         object\n",
       "DISABILITY                      object\n",
       "POLICE_DIVISION                 object\n",
       "HOOD_ID                          int64\n",
       "NEIGHBOURHOOD                   object\n",
       "ObjectId                         int64\n",
       "WEEKDAY                         object\n",
       "IS_WEEKEND                       int32\n",
       "IS_HOLIDAY                       int64\n",
       "HOLIDAY                         object\n",
       "dtype: object"
      ]
     },
     "execution_count": 17,
     "metadata": {},
     "output_type": "execute_result"
    }
   ],
   "source": [
    "new_ksi_df.dtypes"
   ]
  },
  {
   "cell_type": "code",
   "execution_count": 18,
   "metadata": {
    "scrolled": true
   },
   "outputs": [
    {
     "data": {
      "text/html": [
       "<div>\n",
       "<style scoped>\n",
       "    .dataframe tbody tr th:only-of-type {\n",
       "        vertical-align: middle;\n",
       "    }\n",
       "\n",
       "    .dataframe tbody tr th {\n",
       "        vertical-align: top;\n",
       "    }\n",
       "\n",
       "    .dataframe thead th {\n",
       "        text-align: right;\n",
       "    }\n",
       "</style>\n",
       "<table border=\"1\" class=\"dataframe\">\n",
       "  <thead>\n",
       "    <tr style=\"text-align: right;\">\n",
       "      <th></th>\n",
       "      <th>ACCNUM</th>\n",
       "      <th>YEAR</th>\n",
       "      <th>DATE</th>\n",
       "      <th>HOUR</th>\n",
       "      <th>ROAD_CLASS</th>\n",
       "      <th>DISTRICT</th>\n",
       "      <th>LATITUDE</th>\n",
       "      <th>LONGITUDE</th>\n",
       "      <th>LOCCOORD</th>\n",
       "      <th>TRAFFCTL</th>\n",
       "      <th>...</th>\n",
       "      <th>POLICE_DIVISION</th>\n",
       "      <th>HOOD_ID</th>\n",
       "      <th>NEIGHBOURHOOD</th>\n",
       "      <th>ObjectId</th>\n",
       "      <th>WEEKDAY</th>\n",
       "      <th>IS_WEEKEND</th>\n",
       "      <th>IS_HOLIDAY</th>\n",
       "      <th>HOLIDAY</th>\n",
       "      <th>MONTH</th>\n",
       "      <th>DAY</th>\n",
       "    </tr>\n",
       "  </thead>\n",
       "  <tbody>\n",
       "    <tr>\n",
       "      <th>0</th>\n",
       "      <td>892658</td>\n",
       "      <td>2006</td>\n",
       "      <td>2006-03-11 05:00:00+00:00</td>\n",
       "      <td>8</td>\n",
       "      <td>Major Arterial</td>\n",
       "      <td>Toronto and East York</td>\n",
       "      <td>43.656345</td>\n",
       "      <td>-79.45249</td>\n",
       "      <td>Intersection</td>\n",
       "      <td>Traffic Signal</td>\n",
       "      <td>...</td>\n",
       "      <td>D11</td>\n",
       "      <td>88</td>\n",
       "      <td>High Park North (88)</td>\n",
       "      <td>1</td>\n",
       "      <td>Saturday</td>\n",
       "      <td>1</td>\n",
       "      <td>0</td>\n",
       "      <td>None</td>\n",
       "      <td>3</td>\n",
       "      <td>11</td>\n",
       "    </tr>\n",
       "  </tbody>\n",
       "</table>\n",
       "<p>1 rows × 43 columns</p>\n",
       "</div>"
      ],
      "text/plain": [
       "   ACCNUM  YEAR                      DATE  HOUR      ROAD_CLASS  \\\n",
       "0  892658  2006 2006-03-11 05:00:00+00:00     8  Major Arterial   \n",
       "\n",
       "                DISTRICT   LATITUDE  LONGITUDE      LOCCOORD        TRAFFCTL  \\\n",
       "0  Toronto and East York  43.656345  -79.45249  Intersection  Traffic Signal   \n",
       "\n",
       "   ... POLICE_DIVISION HOOD_ID         NEIGHBOURHOOD ObjectId   WEEKDAY  \\\n",
       "0  ...             D11      88  High Park North (88)        1  Saturday   \n",
       "\n",
       "  IS_WEEKEND IS_HOLIDAY HOLIDAY MONTH DAY  \n",
       "0          1          0    None     3  11  \n",
       "\n",
       "[1 rows x 43 columns]"
      ]
     },
     "execution_count": 18,
     "metadata": {},
     "output_type": "execute_result"
    }
   ],
   "source": [
    "new_ksi_df['MONTH'] = new_ksi_df['DATE'].dt.month\n",
    "new_ksi_df['DAY'] = new_ksi_df['DATE'].dt.day\n",
    "new_ksi_df.head(1)"
   ]
  },
  {
   "cell_type": "code",
   "execution_count": 19,
   "metadata": {},
   "outputs": [],
   "source": [
    "def time(x):\n",
    "    if (x > 5) and (x <= 12):\n",
    "        return 'Morning'\n",
    "    elif (x > 12) and (x <= 17 ):\n",
    "        return 'Afternoon'\n",
    "    elif (x > 17) and (x <= 21):\n",
    "        return'Evening'\n",
    "    elif (x > 16) and (x <= 20) :\n",
    "        return 'Night'\n",
    "    elif (x > 20) and (x <= 24):\n",
    "        return'Night'\n",
    "    elif (x > 0) and (x <= 5):\n",
    "        return'Night'\n",
    "\n",
    "new_ksi_df['TIME'] = new_ksi_df['HOUR'].apply(time)"
   ]
  },
  {
   "cell_type": "code",
   "execution_count": 20,
   "metadata": {},
   "outputs": [
    {
     "data": {
      "text/plain": [
       "Index(['ACCNUM', 'YEAR', 'DATE', 'HOUR', 'ROAD_CLASS', 'DISTRICT', 'LATITUDE',\n",
       "       'LONGITUDE', 'LOCCOORD', 'TRAFFCTL', 'VISIBILITY', 'LIGHT', 'RDSFCOND',\n",
       "       'ACCLASS', 'IMPACTYPE', 'INVTYPE', 'INVAGE', 'INJURY', 'VEHTYPE',\n",
       "       'MANOEUVER', 'PEDESTRIAN', 'CYCLIST', 'AUTOMOBILE', 'MOTORCYCLE',\n",
       "       'TRUCK', 'TRSN_CITY_VEH', 'EMERG_VEH', 'PASSENGER', 'SPEEDING',\n",
       "       'AG_DRIV', 'REDLIGHT', 'ALCOHOL', 'DISABILITY', 'POLICE_DIVISION',\n",
       "       'HOOD_ID', 'NEIGHBOURHOOD', 'ObjectId', 'WEEKDAY', 'IS_WEEKEND',\n",
       "       'IS_HOLIDAY', 'HOLIDAY', 'MONTH', 'DAY', 'TIME'],\n",
       "      dtype='object')"
      ]
     },
     "execution_count": 20,
     "metadata": {},
     "output_type": "execute_result"
    }
   ],
   "source": [
    "new_ksi_df.columns"
   ]
  },
  {
   "cell_type": "code",
   "execution_count": 21,
   "metadata": {
    "scrolled": true
   },
   "outputs": [
    {
     "data": {
      "text/html": [
       "<div>\n",
       "<style scoped>\n",
       "    .dataframe tbody tr th:only-of-type {\n",
       "        vertical-align: middle;\n",
       "    }\n",
       "\n",
       "    .dataframe tbody tr th {\n",
       "        vertical-align: top;\n",
       "    }\n",
       "\n",
       "    .dataframe thead th {\n",
       "        text-align: right;\n",
       "    }\n",
       "</style>\n",
       "<table border=\"1\" class=\"dataframe\">\n",
       "  <thead>\n",
       "    <tr style=\"text-align: right;\">\n",
       "      <th></th>\n",
       "      <th>ACCNUM</th>\n",
       "      <th>YEAR</th>\n",
       "      <th>DATE</th>\n",
       "      <th>MONTH</th>\n",
       "      <th>DAY</th>\n",
       "      <th>HOUR</th>\n",
       "      <th>TIME</th>\n",
       "      <th>WEEKDAY</th>\n",
       "      <th>IS_WEEKEND</th>\n",
       "      <th>IS_HOLIDAY</th>\n",
       "      <th>...</th>\n",
       "      <th>PASSENGER</th>\n",
       "      <th>SPEEDING</th>\n",
       "      <th>AG_DRIV</th>\n",
       "      <th>REDLIGHT</th>\n",
       "      <th>ALCOHOL</th>\n",
       "      <th>DISABILITY</th>\n",
       "      <th>POLICE_DIVISION</th>\n",
       "      <th>HOOD_ID</th>\n",
       "      <th>NEIGHBOURHOOD</th>\n",
       "      <th>ObjectId</th>\n",
       "    </tr>\n",
       "  </thead>\n",
       "  <tbody>\n",
       "    <tr>\n",
       "      <th>0</th>\n",
       "      <td>892658</td>\n",
       "      <td>2006</td>\n",
       "      <td>2006-03-11 05:00:00+00:00</td>\n",
       "      <td>3</td>\n",
       "      <td>11</td>\n",
       "      <td>8</td>\n",
       "      <td>Morning</td>\n",
       "      <td>Saturday</td>\n",
       "      <td>1</td>\n",
       "      <td>0</td>\n",
       "      <td>...</td>\n",
       "      <td>&lt;Null&gt;</td>\n",
       "      <td>&lt;Null&gt;</td>\n",
       "      <td>Yes</td>\n",
       "      <td>&lt;Null&gt;</td>\n",
       "      <td>&lt;Null&gt;</td>\n",
       "      <td>&lt;Null&gt;</td>\n",
       "      <td>D11</td>\n",
       "      <td>88</td>\n",
       "      <td>High Park North (88)</td>\n",
       "      <td>1</td>\n",
       "    </tr>\n",
       "  </tbody>\n",
       "</table>\n",
       "<p>1 rows × 44 columns</p>\n",
       "</div>"
      ],
      "text/plain": [
       "   ACCNUM  YEAR                      DATE  MONTH  DAY  HOUR     TIME  \\\n",
       "0  892658  2006 2006-03-11 05:00:00+00:00      3   11     8  Morning   \n",
       "\n",
       "    WEEKDAY  IS_WEEKEND  IS_HOLIDAY  ... PASSENGER SPEEDING AG_DRIV  REDLIGHT  \\\n",
       "0  Saturday           1           0  ...    <Null>   <Null>     Yes    <Null>   \n",
       "\n",
       "   ALCOHOL DISABILITY POLICE_DIVISION HOOD_ID         NEIGHBOURHOOD ObjectId  \n",
       "0   <Null>     <Null>             D11      88  High Park North (88)        1  \n",
       "\n",
       "[1 rows x 44 columns]"
      ]
     },
     "execution_count": 21,
     "metadata": {},
     "output_type": "execute_result"
    }
   ],
   "source": [
    "new_ksi_df = new_ksi_df[['ACCNUM', 'YEAR', 'DATE','MONTH', 'DAY', 'HOUR', 'TIME','WEEKDAY', 'IS_WEEKEND', 'IS_HOLIDAY',\n",
    "       'HOLIDAY', 'ROAD_CLASS', 'DISTRICT', 'LATITUDE',\n",
    "       'LONGITUDE', 'LOCCOORD', 'TRAFFCTL', 'VISIBILITY', 'LIGHT', 'RDSFCOND',\n",
    "       'ACCLASS', 'IMPACTYPE', 'INVTYPE', 'INVAGE', 'INJURY', 'VEHTYPE',\n",
    "       'MANOEUVER', 'PEDESTRIAN', 'CYCLIST', 'AUTOMOBILE', 'MOTORCYCLE',\n",
    "       'TRUCK', 'TRSN_CITY_VEH', 'EMERG_VEH', 'PASSENGER', 'SPEEDING',\n",
    "       'AG_DRIV', 'REDLIGHT', 'ALCOHOL', 'DISABILITY', 'POLICE_DIVISION',\n",
    "       'HOOD_ID', 'NEIGHBOURHOOD','ObjectId']]\n",
    "\n",
    "new_ksi_df.head(1)"
   ]
  },
  {
   "cell_type": "code",
   "execution_count": 22,
   "metadata": {},
   "outputs": [],
   "source": [
    "cols = ['PEDESTRIAN', 'CYCLIST', 'AUTOMOBILE', 'MOTORCYCLE',\n",
    "       'TRUCK', 'TRSN_CITY_VEH', 'EMERG_VEH', 'PASSENGER', 'SPEEDING',\n",
    "       'AG_DRIV', 'REDLIGHT', 'ALCOHOL', 'DISABILITY']\n",
    "\n",
    "for column in cols:\n",
    "    new_ksi_df[column].replace(['<Null>', 'Yes'], [0,1], inplace=True)"
   ]
  },
  {
   "cell_type": "code",
   "execution_count": 23,
   "metadata": {
    "scrolled": false
   },
   "outputs": [
    {
     "data": {
      "text/html": [
       "<div>\n",
       "<style scoped>\n",
       "    .dataframe tbody tr th:only-of-type {\n",
       "        vertical-align: middle;\n",
       "    }\n",
       "\n",
       "    .dataframe tbody tr th {\n",
       "        vertical-align: top;\n",
       "    }\n",
       "\n",
       "    .dataframe thead th {\n",
       "        text-align: right;\n",
       "    }\n",
       "</style>\n",
       "<table border=\"1\" class=\"dataframe\">\n",
       "  <thead>\n",
       "    <tr style=\"text-align: right;\">\n",
       "      <th></th>\n",
       "      <th>ACCNUM</th>\n",
       "      <th>YEAR</th>\n",
       "      <th>DATE</th>\n",
       "      <th>MONTH</th>\n",
       "      <th>DAY</th>\n",
       "      <th>HOUR</th>\n",
       "      <th>TIME</th>\n",
       "      <th>WEEKDAY</th>\n",
       "      <th>IS_WEEKEND</th>\n",
       "      <th>IS_HOLIDAY</th>\n",
       "      <th>...</th>\n",
       "      <th>PASSENGER</th>\n",
       "      <th>SPEEDING</th>\n",
       "      <th>AG_DRIV</th>\n",
       "      <th>REDLIGHT</th>\n",
       "      <th>ALCOHOL</th>\n",
       "      <th>DISABILITY</th>\n",
       "      <th>POLICE_DIVISION</th>\n",
       "      <th>HOOD_ID</th>\n",
       "      <th>NEIGHBOURHOOD</th>\n",
       "      <th>ObjectId</th>\n",
       "    </tr>\n",
       "  </thead>\n",
       "  <tbody>\n",
       "    <tr>\n",
       "      <th>0</th>\n",
       "      <td>892658</td>\n",
       "      <td>2006</td>\n",
       "      <td>2006-03-11 05:00:00+00:00</td>\n",
       "      <td>3</td>\n",
       "      <td>11</td>\n",
       "      <td>8</td>\n",
       "      <td>Morning</td>\n",
       "      <td>Saturday</td>\n",
       "      <td>1</td>\n",
       "      <td>0</td>\n",
       "      <td>...</td>\n",
       "      <td>0</td>\n",
       "      <td>0</td>\n",
       "      <td>1</td>\n",
       "      <td>0</td>\n",
       "      <td>0</td>\n",
       "      <td>0</td>\n",
       "      <td>D11</td>\n",
       "      <td>88</td>\n",
       "      <td>High Park North (88)</td>\n",
       "      <td>1</td>\n",
       "    </tr>\n",
       "    <tr>\n",
       "      <th>1</th>\n",
       "      <td>892658</td>\n",
       "      <td>2006</td>\n",
       "      <td>2006-03-11 05:00:00+00:00</td>\n",
       "      <td>3</td>\n",
       "      <td>11</td>\n",
       "      <td>8</td>\n",
       "      <td>Morning</td>\n",
       "      <td>Saturday</td>\n",
       "      <td>1</td>\n",
       "      <td>0</td>\n",
       "      <td>...</td>\n",
       "      <td>0</td>\n",
       "      <td>0</td>\n",
       "      <td>1</td>\n",
       "      <td>0</td>\n",
       "      <td>0</td>\n",
       "      <td>0</td>\n",
       "      <td>D11</td>\n",
       "      <td>88</td>\n",
       "      <td>High Park North (88)</td>\n",
       "      <td>2</td>\n",
       "    </tr>\n",
       "    <tr>\n",
       "      <th>2</th>\n",
       "      <td>892810</td>\n",
       "      <td>2006</td>\n",
       "      <td>2006-03-11 05:00:00+00:00</td>\n",
       "      <td>3</td>\n",
       "      <td>11</td>\n",
       "      <td>9</td>\n",
       "      <td>Morning</td>\n",
       "      <td>Saturday</td>\n",
       "      <td>1</td>\n",
       "      <td>0</td>\n",
       "      <td>...</td>\n",
       "      <td>0</td>\n",
       "      <td>0</td>\n",
       "      <td>1</td>\n",
       "      <td>1</td>\n",
       "      <td>0</td>\n",
       "      <td>0</td>\n",
       "      <td>D42</td>\n",
       "      <td>131</td>\n",
       "      <td>Rouge (131)</td>\n",
       "      <td>3</td>\n",
       "    </tr>\n",
       "    <tr>\n",
       "      <th>3</th>\n",
       "      <td>892810</td>\n",
       "      <td>2006</td>\n",
       "      <td>2006-03-11 05:00:00+00:00</td>\n",
       "      <td>3</td>\n",
       "      <td>11</td>\n",
       "      <td>9</td>\n",
       "      <td>Morning</td>\n",
       "      <td>Saturday</td>\n",
       "      <td>1</td>\n",
       "      <td>0</td>\n",
       "      <td>...</td>\n",
       "      <td>0</td>\n",
       "      <td>0</td>\n",
       "      <td>1</td>\n",
       "      <td>1</td>\n",
       "      <td>0</td>\n",
       "      <td>0</td>\n",
       "      <td>D42</td>\n",
       "      <td>131</td>\n",
       "      <td>Rouge (131)</td>\n",
       "      <td>4</td>\n",
       "    </tr>\n",
       "    <tr>\n",
       "      <th>4</th>\n",
       "      <td>892682</td>\n",
       "      <td>2006</td>\n",
       "      <td>2006-03-12 05:00:00+00:00</td>\n",
       "      <td>3</td>\n",
       "      <td>12</td>\n",
       "      <td>2</td>\n",
       "      <td>Night</td>\n",
       "      <td>Sunday</td>\n",
       "      <td>1</td>\n",
       "      <td>0</td>\n",
       "      <td>...</td>\n",
       "      <td>0</td>\n",
       "      <td>0</td>\n",
       "      <td>0</td>\n",
       "      <td>0</td>\n",
       "      <td>1</td>\n",
       "      <td>0</td>\n",
       "      <td>D41</td>\n",
       "      <td>138</td>\n",
       "      <td>Eglinton East (138)</td>\n",
       "      <td>5</td>\n",
       "    </tr>\n",
       "  </tbody>\n",
       "</table>\n",
       "<p>5 rows × 44 columns</p>\n",
       "</div>"
      ],
      "text/plain": [
       "   ACCNUM  YEAR                      DATE  MONTH  DAY  HOUR     TIME  \\\n",
       "0  892658  2006 2006-03-11 05:00:00+00:00      3   11     8  Morning   \n",
       "1  892658  2006 2006-03-11 05:00:00+00:00      3   11     8  Morning   \n",
       "2  892810  2006 2006-03-11 05:00:00+00:00      3   11     9  Morning   \n",
       "3  892810  2006 2006-03-11 05:00:00+00:00      3   11     9  Morning   \n",
       "4  892682  2006 2006-03-12 05:00:00+00:00      3   12     2    Night   \n",
       "\n",
       "    WEEKDAY  IS_WEEKEND  IS_HOLIDAY  ... PASSENGER SPEEDING AG_DRIV  REDLIGHT  \\\n",
       "0  Saturday           1           0  ...         0        0       1         0   \n",
       "1  Saturday           1           0  ...         0        0       1         0   \n",
       "2  Saturday           1           0  ...         0        0       1         1   \n",
       "3  Saturday           1           0  ...         0        0       1         1   \n",
       "4    Sunday           1           0  ...         0        0       0         0   \n",
       "\n",
       "   ALCOHOL DISABILITY POLICE_DIVISION HOOD_ID         NEIGHBOURHOOD ObjectId  \n",
       "0        0          0             D11      88  High Park North (88)        1  \n",
       "1        0          0             D11      88  High Park North (88)        2  \n",
       "2        0          0             D42     131           Rouge (131)        3  \n",
       "3        0          0             D42     131           Rouge (131)        4  \n",
       "4        1          0             D41     138   Eglinton East (138)        5  \n",
       "\n",
       "[5 rows x 44 columns]"
      ]
     },
     "execution_count": 23,
     "metadata": {},
     "output_type": "execute_result"
    }
   ],
   "source": [
    "new_ksi_df.head()"
   ]
  },
  {
   "cell_type": "code",
   "execution_count": 24,
   "metadata": {
    "scrolled": true
   },
   "outputs": [
    {
     "data": {
      "text/plain": [
       "TIME                 4\n",
       "WEEKDAY              7\n",
       "HOLIDAY             11\n",
       "ROAD_CLASS          11\n",
       "DISTRICT             6\n",
       "LOCCOORD             8\n",
       "TRAFFCTL            11\n",
       "VISIBILITY           9\n",
       "LIGHT                9\n",
       "RDSFCOND            10\n",
       "ACCLASS              3\n",
       "IMPACTYPE           11\n",
       "INVTYPE             19\n",
       "INVAGE              21\n",
       "INJURY               6\n",
       "VEHTYPE             28\n",
       "MANOEUVER           17\n",
       "POLICE_DIVISION     17\n",
       "NEIGHBOURHOOD      140\n",
       "dtype: int64"
      ]
     },
     "execution_count": 24,
     "metadata": {},
     "output_type": "execute_result"
    }
   ],
   "source": [
    "ksi_cat = new_ksi_df.dtypes[new_ksi_df.dtypes == \"object\"].index.tolist()\n",
    "new_ksi_df[ksi_cat].nunique()"
   ]
  },
  {
   "cell_type": "code",
   "execution_count": 25,
   "metadata": {
    "scrolled": true
   },
   "outputs": [
    {
     "data": {
      "text/plain": [
       "Major Arterial         11976\n",
       "Minor Arterial          2598\n",
       "Collector                929\n",
       "Local                    761\n",
       "<Null>                   497\n",
       "Expressway                52\n",
       "Other                     25\n",
       "Laneway                   10\n",
       "Pending                    7\n",
       "Expressway Ramp            4\n",
       "Major Arterial Ramp        1\n",
       "Name: ROAD_CLASS, dtype: int64"
      ]
     },
     "execution_count": 25,
     "metadata": {},
     "output_type": "execute_result"
    }
   ],
   "source": [
    "new_ksi_df['ROAD_CLASS'].value_counts()"
   ]
  },
  {
   "cell_type": "code",
   "execution_count": 26,
   "metadata": {},
   "outputs": [],
   "source": [
    "for x in new_ksi_df['ROAD_CLASS']:\n",
    "    new_ksi_df['ROAD_CLASS'].replace(['<Null>', 'Expressway Ramp', 'Major Arterial Ramp'], ['Other', 'Expressway', 'Major Arterial'], inplace=True)"
   ]
  },
  {
   "cell_type": "code",
   "execution_count": 27,
   "metadata": {
    "scrolled": true
   },
   "outputs": [
    {
     "data": {
      "text/plain": [
       "Major Arterial    11977\n",
       "Minor Arterial     2598\n",
       "Collector           929\n",
       "Local               761\n",
       "Other               522\n",
       "Expressway           56\n",
       "Laneway              10\n",
       "Pending               7\n",
       "Name: ROAD_CLASS, dtype: int64"
      ]
     },
     "execution_count": 27,
     "metadata": {},
     "output_type": "execute_result"
    }
   ],
   "source": [
    "new_ksi_df['ROAD_CLASS'].value_counts()"
   ]
  },
  {
   "cell_type": "code",
   "execution_count": 28,
   "metadata": {},
   "outputs": [
    {
     "data": {
      "text/plain": [
       "Toronto and East York    5617\n",
       "Etobicoke York           3884\n",
       "Scarborough              3798\n",
       "North York               3343\n",
       "<Null>                    141\n",
       "Toronto East York          77\n",
       "Name: DISTRICT, dtype: int64"
      ]
     },
     "execution_count": 28,
     "metadata": {},
     "output_type": "execute_result"
    }
   ],
   "source": [
    "new_ksi_df['DISTRICT'].value_counts()"
   ]
  },
  {
   "cell_type": "code",
   "execution_count": 29,
   "metadata": {},
   "outputs": [],
   "source": [
    "for x in new_ksi_df['DISTRICT']:\n",
    "    new_ksi_df['DISTRICT'].replace(['Toronto East York'], ['Toronto and East York'], inplace=True)"
   ]
  },
  {
   "cell_type": "code",
   "execution_count": 30,
   "metadata": {
    "scrolled": true
   },
   "outputs": [
    {
     "data": {
      "text/plain": [
       "Intersection                           11141\n",
       "Mid-Block                               5598\n",
       "<Null>                                   105\n",
       "Exit Ramp Westbound                        5\n",
       "Mid-Block (Abnormal)                       4\n",
       "Exit Ramp Southbound                       3\n",
       "Entrance Ramp Westbound                    2\n",
       "Park, Private Property, Public Lane        2\n",
       "Name: LOCCOORD, dtype: int64"
      ]
     },
     "execution_count": 30,
     "metadata": {},
     "output_type": "execute_result"
    }
   ],
   "source": [
    "new_ksi_df['LOCCOORD'].value_counts()"
   ]
  },
  {
   "cell_type": "code",
   "execution_count": 31,
   "metadata": {},
   "outputs": [],
   "source": [
    "for x in new_ksi_df['LOCCOORD']:\n",
    "    new_ksi_df['LOCCOORD'].replace(['Exit Ramp Westbound', 'Exit Ramp Southbound', 'Mid-Block (Abnormal)', '<Null>', 'Entrance Ramp Westbound', 'Park, Private Property, Public Lane' ], ['Other', 'Other', 'Mid-Block', 'Other', 'Other', 'Other'], inplace=True)"
   ]
  },
  {
   "cell_type": "code",
   "execution_count": 32,
   "metadata": {},
   "outputs": [
    {
     "data": {
      "text/plain": [
       "Intersection    11141\n",
       "Mid-Block        5602\n",
       "Other             117\n",
       "Name: LOCCOORD, dtype: int64"
      ]
     },
     "execution_count": 32,
     "metadata": {},
     "output_type": "execute_result"
    }
   ],
   "source": [
    "new_ksi_df['LOCCOORD'].value_counts()"
   ]
  },
  {
   "cell_type": "code",
   "execution_count": 33,
   "metadata": {
    "scrolled": false
   },
   "outputs": [
    {
     "data": {
      "text/plain": [
       "No Control              8092\n",
       "Traffic Signal          7104\n",
       "Stop Sign               1295\n",
       "Pedestrian Crossover     195\n",
       "Traffic Controller       104\n",
       "<Null>                    29\n",
       "Yield Sign                16\n",
       "Streetcar (Stop for)      16\n",
       "Traffic Gate               5\n",
       "School Guard               2\n",
       "Police Control             2\n",
       "Name: TRAFFCTL, dtype: int64"
      ]
     },
     "execution_count": 33,
     "metadata": {},
     "output_type": "execute_result"
    }
   ],
   "source": [
    "new_ksi_df['TRAFFCTL'].value_counts()"
   ]
  },
  {
   "cell_type": "code",
   "execution_count": 34,
   "metadata": {},
   "outputs": [],
   "source": [
    "TRAFFCTL_counts = new_ksi_df['TRAFFCTL'].value_counts()\n",
    "replace_TRAFFCTL = list(TRAFFCTL_counts[TRAFFCTL_counts < 1000].index)\n",
    "\n",
    "for x in replace_TRAFFCTL:\n",
    "    new_ksi_df['TRAFFCTL'] = new_ksi_df['TRAFFCTL'].replace(x,\"Other\")"
   ]
  },
  {
   "cell_type": "code",
   "execution_count": 35,
   "metadata": {
    "scrolled": true
   },
   "outputs": [
    {
     "data": {
      "text/plain": [
       "No Control        8092\n",
       "Traffic Signal    7104\n",
       "Stop Sign         1295\n",
       "Other              369\n",
       "Name: TRAFFCTL, dtype: int64"
      ]
     },
     "execution_count": 35,
     "metadata": {},
     "output_type": "execute_result"
    }
   ],
   "source": [
    "new_ksi_df['TRAFFCTL'].value_counts()"
   ]
  },
  {
   "cell_type": "code",
   "execution_count": 36,
   "metadata": {
    "scrolled": true
   },
   "outputs": [
    {
     "data": {
      "text/plain": [
       "Clear                     14476\n",
       "Rain                       1819\n",
       "Snow                        332\n",
       "Other                        99\n",
       "Fog, Mist, Smoke, Dust       46\n",
       "Freezing Rain                43\n",
       "Drifting Snow                19\n",
       "<Null>                       18\n",
       "Strong wind                   8\n",
       "Name: VISIBILITY, dtype: int64"
      ]
     },
     "execution_count": 36,
     "metadata": {},
     "output_type": "execute_result"
    }
   ],
   "source": [
    "new_ksi_df['VISIBILITY'].value_counts()"
   ]
  },
  {
   "cell_type": "code",
   "execution_count": 37,
   "metadata": {},
   "outputs": [],
   "source": [
    "for x in new_ksi_df['VISIBILITY']:\n",
    "    new_ksi_df['VISIBILITY'].replace(['Drifting Snow', '<Null>', 'Strong wind', 'Freezing Rain'], ['Snow', 'Other', 'Other', 'Snow'], inplace=True)"
   ]
  },
  {
   "cell_type": "code",
   "execution_count": 38,
   "metadata": {
    "scrolled": true
   },
   "outputs": [
    {
     "data": {
      "text/plain": [
       "Clear                     14476\n",
       "Rain                       1819\n",
       "Snow                        394\n",
       "Other                       125\n",
       "Fog, Mist, Smoke, Dust       46\n",
       "Name: VISIBILITY, dtype: int64"
      ]
     },
     "execution_count": 38,
     "metadata": {},
     "output_type": "execute_result"
    }
   ],
   "source": [
    "new_ksi_df['VISIBILITY'].value_counts()"
   ]
  },
  {
   "cell_type": "code",
   "execution_count": 39,
   "metadata": {
    "scrolled": true
   },
   "outputs": [
    {
     "data": {
      "text/plain": [
       "Daylight                9683\n",
       "Dark                    3582\n",
       "Dark, artificial        2854\n",
       "Dusk                     226\n",
       "Dusk, artificial         184\n",
       "Daylight, artificial     128\n",
       "Dawn                     104\n",
       "Dawn, artificial          93\n",
       "Other                      6\n",
       "Name: LIGHT, dtype: int64"
      ]
     },
     "execution_count": 39,
     "metadata": {},
     "output_type": "execute_result"
    }
   ],
   "source": [
    "new_ksi_df['LIGHT'].value_counts()"
   ]
  },
  {
   "cell_type": "code",
   "execution_count": 40,
   "metadata": {},
   "outputs": [],
   "source": [
    "for x in new_ksi_df['LIGHT']:\n",
    "    new_ksi_df['LIGHT'].replace(['Daylight, artificial', 'Dark, artificial', 'Dusk, artificial', 'Dawn, artificial' ], ['Daylight', 'Dark', 'Dusk', 'Dawn'], inplace=True)"
   ]
  },
  {
   "cell_type": "code",
   "execution_count": 41,
   "metadata": {},
   "outputs": [
    {
     "data": {
      "text/plain": [
       "Daylight    9811\n",
       "Dark        6436\n",
       "Dusk         410\n",
       "Dawn         197\n",
       "Other          6\n",
       "Name: LIGHT, dtype: int64"
      ]
     },
     "execution_count": 41,
     "metadata": {},
     "output_type": "execute_result"
    }
   ],
   "source": [
    "new_ksi_df['LIGHT'].value_counts()"
   ]
  },
  {
   "cell_type": "code",
   "execution_count": 42,
   "metadata": {},
   "outputs": [
    {
     "data": {
      "text/plain": [
       "Dry                     13435\n",
       "Wet                      2870\n",
       "Loose Snow                166\n",
       "Other                     147\n",
       "Slush                      96\n",
       "Ice                        73\n",
       "Packed Snow                42\n",
       "<Null>                     23\n",
       "Loose Sand or Gravel        7\n",
       "Spilled liquid              1\n",
       "Name: RDSFCOND, dtype: int64"
      ]
     },
     "execution_count": 42,
     "metadata": {},
     "output_type": "execute_result"
    }
   ],
   "source": [
    "new_ksi_df['RDSFCOND'].value_counts()"
   ]
  },
  {
   "cell_type": "code",
   "execution_count": 43,
   "metadata": {},
   "outputs": [],
   "source": [
    "for x in new_ksi_df['RDSFCOND']:\n",
    "    new_ksi_df['RDSFCOND'].replace(['Loose Snow', 'Packed Snow', '<Null>', 'Loose Sand or Gravel', 'Spilled liquid' ], ['Snow', 'Snow', 'Other', 'Other', 'Other'], inplace=True)"
   ]
  },
  {
   "cell_type": "code",
   "execution_count": 44,
   "metadata": {
    "scrolled": true
   },
   "outputs": [
    {
     "data": {
      "text/plain": [
       "Dry      13435\n",
       "Wet       2870\n",
       "Snow       208\n",
       "Other      178\n",
       "Slush       96\n",
       "Ice         73\n",
       "Name: RDSFCOND, dtype: int64"
      ]
     },
     "execution_count": 44,
     "metadata": {},
     "output_type": "execute_result"
    }
   ],
   "source": [
    "new_ksi_df['RDSFCOND'].value_counts()"
   ]
  },
  {
   "cell_type": "code",
   "execution_count": 45,
   "metadata": {
    "scrolled": false
   },
   "outputs": [
    {
     "data": {
      "text/plain": [
       "Non-Fatal Injury        14561\n",
       "Fatal                    2297\n",
       "Property Damage Only        2\n",
       "Name: ACCLASS, dtype: int64"
      ]
     },
     "execution_count": 45,
     "metadata": {},
     "output_type": "execute_result"
    }
   ],
   "source": [
    "new_ksi_df['ACCLASS'].value_counts()"
   ]
  },
  {
   "cell_type": "code",
   "execution_count": 46,
   "metadata": {},
   "outputs": [],
   "source": [
    "for x in new_ksi_df['ACCLASS']:\n",
    "    new_ksi_df['ACCLASS'].replace(['Non-Fatal Injury', 'Property Damage Only' ], ['Non-Fatal', 'Non-Fatal'], inplace=True)"
   ]
  },
  {
   "cell_type": "code",
   "execution_count": 47,
   "metadata": {},
   "outputs": [
    {
     "data": {
      "text/plain": [
       "Non-Fatal    14563\n",
       "Fatal         2297\n",
       "Name: ACCLASS, dtype: int64"
      ]
     },
     "execution_count": 47,
     "metadata": {},
     "output_type": "execute_result"
    }
   ],
   "source": [
    "new_ksi_df['ACCLASS'].value_counts()"
   ]
  },
  {
   "cell_type": "code",
   "execution_count": 48,
   "metadata": {},
   "outputs": [
    {
     "data": {
      "text/plain": [
       "Pedestrian Collisions     6811\n",
       "Turning Movement          2552\n",
       "Cyclist Collisions        1674\n",
       "Rear End                  1602\n",
       "SMV Other                 1312\n",
       "Angle                     1206\n",
       "Approaching                870\n",
       "Sideswipe                  466\n",
       "Other                      182\n",
       "SMV Unattended Vehicle     181\n",
       "<Null>                       4\n",
       "Name: IMPACTYPE, dtype: int64"
      ]
     },
     "execution_count": 48,
     "metadata": {},
     "output_type": "execute_result"
    }
   ],
   "source": [
    "new_ksi_df['IMPACTYPE'].value_counts()"
   ]
  },
  {
   "cell_type": "code",
   "execution_count": 49,
   "metadata": {},
   "outputs": [],
   "source": [
    "for x in new_ksi_df['IMPACTYPE']:\n",
    "    new_ksi_df['IMPACTYPE'].replace(['SMV Other', 'SMV Unattended Vehicle', '<Null>' ], ['Slow Moving Vehicle', 'Slow Moving Vehicle', 'Other'], inplace=True)"
   ]
  },
  {
   "cell_type": "code",
   "execution_count": 50,
   "metadata": {
    "scrolled": true
   },
   "outputs": [
    {
     "data": {
      "text/plain": [
       "Pedestrian Collisions    6811\n",
       "Turning Movement         2552\n",
       "Cyclist Collisions       1674\n",
       "Rear End                 1602\n",
       "Slow Moving Vehicle      1493\n",
       "Angle                    1206\n",
       "Approaching               870\n",
       "Sideswipe                 466\n",
       "Other                     186\n",
       "Name: IMPACTYPE, dtype: int64"
      ]
     },
     "execution_count": 50,
     "metadata": {},
     "output_type": "execute_result"
    }
   ],
   "source": [
    "new_ksi_df['IMPACTYPE'].value_counts()"
   ]
  },
  {
   "cell_type": "code",
   "execution_count": 51,
   "metadata": {
    "scrolled": true
   },
   "outputs": [
    {
     "data": {
      "text/plain": [
       "Driver                  7618\n",
       "Pedestrian              2871\n",
       "Passenger               2543\n",
       "Vehicle Owner           1636\n",
       "Cyclist                  726\n",
       "Motorcycle Driver        607\n",
       "Truck Driver             316\n",
       "Other Property Owner     257\n",
       "Other                    174\n",
       "Motorcycle Passenger      32\n",
       "Moped Driver              27\n",
       "Driver - Not Hit          17\n",
       "Wheelchair                13\n",
       "<Null>                    12\n",
       "In-Line Skater             5\n",
       "Cyclist Passenger          2\n",
       "Trailer Owner              2\n",
       "Pedestrian - Not Hit       1\n",
       "Witness                    1\n",
       "Name: INVTYPE, dtype: int64"
      ]
     },
     "execution_count": 51,
     "metadata": {},
     "output_type": "execute_result"
    }
   ],
   "source": [
    "new_ksi_df['INVTYPE'].value_counts()"
   ]
  },
  {
   "cell_type": "code",
   "execution_count": 52,
   "metadata": {},
   "outputs": [],
   "source": [
    "for x in new_ksi_df['INVTYPE']:\n",
    "    new_ksi_df['INVTYPE'].replace(['Motorcycle Driver', 'Truck Driver', 'Other Property Owner', 'Motorcycle Passenger'], ['Motorcyclist', 'Driver', 'Other', 'Passenger'], inplace=True)"
   ]
  },
  {
   "cell_type": "code",
   "execution_count": 53,
   "metadata": {},
   "outputs": [],
   "source": [
    "INVTYPE_counts = new_ksi_df['INVTYPE'].value_counts()\n",
    "replace_INVTYPE = list(INVTYPE_counts[INVTYPE_counts < 250].index)\n",
    "\n",
    "for x in replace_INVTYPE:\n",
    "    new_ksi_df['INVTYPE'] = new_ksi_df['INVTYPE'].replace(x,\"Other\")"
   ]
  },
  {
   "cell_type": "code",
   "execution_count": 54,
   "metadata": {
    "scrolled": false
   },
   "outputs": [
    {
     "data": {
      "text/plain": [
       "Driver           7934\n",
       "Pedestrian       2871\n",
       "Passenger        2575\n",
       "Vehicle Owner    1636\n",
       "Cyclist           726\n",
       "Motorcyclist      607\n",
       "Other             511\n",
       "Name: INVTYPE, dtype: int64"
      ]
     },
     "execution_count": 54,
     "metadata": {},
     "output_type": "execute_result"
    }
   ],
   "source": [
    "new_ksi_df['INVTYPE'].value_counts()"
   ]
  },
  {
   "cell_type": "code",
   "execution_count": 55,
   "metadata": {
    "scrolled": true
   },
   "outputs": [
    {
     "data": {
      "text/plain": [
       "unknown     2573\n",
       "20 to 24    1561\n",
       "25 to 29    1504\n",
       "30 to 34    1248\n",
       "50 to 54    1222\n",
       "35 to 39    1205\n",
       "40 to 44    1181\n",
       "45 to 49    1153\n",
       "55 to 59     993\n",
       "60 to 64     796\n",
       "15 to 19     766\n",
       "65 to 69     614\n",
       "70 to 74     488\n",
       "75 to 79     402\n",
       "80 to 84     307\n",
       "10 to 14     231\n",
       "85 to 89     196\n",
       "5 to 9       183\n",
       "0 to 4       167\n",
       "90 to 94      56\n",
       "Over 95       14\n",
       "Name: INVAGE, dtype: int64"
      ]
     },
     "execution_count": 55,
     "metadata": {},
     "output_type": "execute_result"
    }
   ],
   "source": [
    "new_ksi_df['INVAGE'].value_counts()"
   ]
  },
  {
   "cell_type": "code",
   "execution_count": 56,
   "metadata": {},
   "outputs": [],
   "source": [
    "for x in new_ksi_df['INVAGE']:\n",
    "    new_ksi_df['INVAGE'].replace(['0 to 4', '5 to 9', '10 to 14', '15 to 19'], ['19 & Under', '19 & Under', '19 & Under', '19 & Under'], inplace=True)\n",
    "    new_ksi_df['INVAGE'].replace(['20 to 24','25 to 29', '30 to 34', '35 to 39'], ['20 to 39', '20 to 39', '20 to 39', '20 to 39'], inplace=True)\n",
    "    new_ksi_df['INVAGE'].replace(['40 to 44', '45 to 49', '50 to 54', '55 to 59'], ['40 to 59', '40 to 59', '40 to 59', '40 to 59'], inplace=True)\n",
    "    new_ksi_df['INVAGE'].replace(['60 to 64', '65 to 69', '70 to 74', '75 to 79'], ['60 to 79', '60 to 79', '60 to 79', '60 to 79'], inplace=True)\n",
    "    new_ksi_df['INVAGE'].replace(['80 to 84', '85 to 89', '90 to 94', 'Over 95'], ['80 & Over', '80 & Over', '80 & Over', '80 & Over'], inplace=True)"
   ]
  },
  {
   "cell_type": "code",
   "execution_count": 57,
   "metadata": {
    "scrolled": true
   },
   "outputs": [
    {
     "data": {
      "text/plain": [
       "20 to 39      5518\n",
       "40 to 59      4549\n",
       "unknown       2573\n",
       "60 to 79      2300\n",
       "19 & Under    1347\n",
       "80 & Over      573\n",
       "Name: INVAGE, dtype: int64"
      ]
     },
     "execution_count": 57,
     "metadata": {},
     "output_type": "execute_result"
    }
   ],
   "source": [
    "new_ksi_df['INVAGE'].value_counts()"
   ]
  },
  {
   "cell_type": "code",
   "execution_count": 58,
   "metadata": {},
   "outputs": [
    {
     "data": {
      "text/plain": [
       "None       6406\n",
       "Major      5668\n",
       "<Null>     1612\n",
       "Minor      1311\n",
       "Minimal    1042\n",
       "Fatal       821\n",
       "Name: INJURY, dtype: int64"
      ]
     },
     "execution_count": 58,
     "metadata": {},
     "output_type": "execute_result"
    }
   ],
   "source": [
    "new_ksi_df['INJURY'].value_counts()"
   ]
  },
  {
   "cell_type": "code",
   "execution_count": 59,
   "metadata": {},
   "outputs": [],
   "source": [
    "for x in new_ksi_df['INJURY']:\n",
    "    new_ksi_df['INJURY'].replace(['<Null>'], ['unknown'], inplace=True)"
   ]
  },
  {
   "cell_type": "code",
   "execution_count": 60,
   "metadata": {
    "scrolled": true
   },
   "outputs": [
    {
     "data": {
      "text/plain": [
       "None       6406\n",
       "Major      5668\n",
       "unknown    1612\n",
       "Minor      1311\n",
       "Minimal    1042\n",
       "Fatal       821\n",
       "Name: INJURY, dtype: int64"
      ]
     },
     "execution_count": 60,
     "metadata": {},
     "output_type": "execute_result"
    }
   ],
   "source": [
    "new_ksi_df['INJURY'].value_counts()"
   ]
  },
  {
   "cell_type": "code",
   "execution_count": 61,
   "metadata": {},
   "outputs": [
    {
     "data": {
      "text/plain": [
       "Automobile, Station Wagon           6890\n",
       "Other                               4746\n",
       "<Null>                              2813\n",
       "Bicycle                              722\n",
       "Motorcycle                           608\n",
       "Municipal Transit Bus (TTC)          249\n",
       "Pick Up Truck                        179\n",
       "Truck - Open                         175\n",
       "Passenger Van                        118\n",
       "Delivery Van                          72\n",
       "Truck - Closed (Blazer, etc)          60\n",
       "Street Car                            42\n",
       "Truck - Dump                          34\n",
       "Truck-Tractor                         33\n",
       "Taxi                                  28\n",
       "Moped                                 22\n",
       "Truck (other)                         13\n",
       "Bus (Other) (Go Bus, Gray Coach)      13\n",
       "Intercity Bus                         10\n",
       "Truck - Tank                          10\n",
       "School Bus                             5\n",
       "Tow Truck                              4\n",
       "Construction Equipment                 4\n",
       "Police Vehicle                         4\n",
       "Fire Vehicle                           3\n",
       "Truck - Car Carrier                    1\n",
       "Off Road - 2 Wheels                    1\n",
       "Other Emergency Vehicle                1\n",
       "Name: VEHTYPE, dtype: int64"
      ]
     },
     "execution_count": 61,
     "metadata": {},
     "output_type": "execute_result"
    }
   ],
   "source": [
    "new_ksi_df['VEHTYPE'].value_counts()"
   ]
  },
  {
   "cell_type": "code",
   "execution_count": 62,
   "metadata": {},
   "outputs": [],
   "source": [
    "trucks = new_ksi_df[new_ksi_df['VEHTYPE'].str.contains(\"Truck\")]\n",
    "bus = new_ksi_df[new_ksi_df['VEHTYPE'].str.contains(\"Bus\")]\n",
    "\n",
    "for x in trucks['VEHTYPE']:\n",
    "    new_ksi_df['VEHTYPE'] = new_ksi_df['VEHTYPE'].replace(x,\"Truck\")\n",
    "\n",
    "for x in bus['VEHTYPE']:\n",
    "    new_ksi_df['VEHTYPE'] = new_ksi_df['VEHTYPE'].replace(x,\"Bus\")\n",
    "    "
   ]
  },
  {
   "cell_type": "code",
   "execution_count": 63,
   "metadata": {
    "scrolled": true
   },
   "outputs": [
    {
     "data": {
      "text/plain": [
       "Automobile, Station Wagon    6890\n",
       "Other                        4746\n",
       "<Null>                       2813\n",
       "Bicycle                       722\n",
       "Motorcycle                    608\n",
       "Truck                         509\n",
       "Bus                           277\n",
       "Passenger Van                 118\n",
       "Delivery Van                   72\n",
       "Street Car                     42\n",
       "Taxi                           28\n",
       "Moped                          22\n",
       "Construction Equipment          4\n",
       "Police Vehicle                  4\n",
       "Fire Vehicle                    3\n",
       "Other Emergency Vehicle         1\n",
       "Off Road - 2 Wheels             1\n",
       "Name: VEHTYPE, dtype: int64"
      ]
     },
     "execution_count": 63,
     "metadata": {},
     "output_type": "execute_result"
    }
   ],
   "source": [
    "new_ksi_df['VEHTYPE'].value_counts()"
   ]
  },
  {
   "cell_type": "code",
   "execution_count": 64,
   "metadata": {},
   "outputs": [],
   "source": [
    "for x in new_ksi_df['VEHTYPE']:\n",
    "    new_ksi_df['VEHTYPE'].replace(['<Null>', 'Bus', 'Street Car', 'Passenger Van', 'Delivery Van', 'Taxi', 'Police Vehicle'  ], ['Other', 'Public Transit', 'Public Transit', 'Automobile, Station Wagon', 'Automobile, Station Wagon', 'Automobile, Station Wagon', 'Automobile, Station Wagon' ], inplace=True)"
   ]
  },
  {
   "cell_type": "code",
   "execution_count": 65,
   "metadata": {},
   "outputs": [],
   "source": [
    "VEHTYPE_counts = new_ksi_df['VEHTYPE'].value_counts()\n",
    "replace_VEHTYPE = list(VEHTYPE_counts[VEHTYPE_counts < 300].index)\n",
    "\n",
    "for x in replace_VEHTYPE:\n",
    "    new_ksi_df['VEHTYPE'] = new_ksi_df['VEHTYPE'].replace(x,\"Other\")"
   ]
  },
  {
   "cell_type": "code",
   "execution_count": 66,
   "metadata": {},
   "outputs": [
    {
     "data": {
      "text/plain": [
       "Other                        7590\n",
       "Automobile, Station Wagon    7112\n",
       "Bicycle                       722\n",
       "Motorcycle                    608\n",
       "Truck                         509\n",
       "Public Transit                319\n",
       "Name: VEHTYPE, dtype: int64"
      ]
     },
     "execution_count": 66,
     "metadata": {},
     "output_type": "execute_result"
    }
   ],
   "source": [
    "new_ksi_df['VEHTYPE'].value_counts()"
   ]
  },
  {
   "cell_type": "code",
   "execution_count": 67,
   "metadata": {
    "scrolled": true
   },
   "outputs": [
    {
     "data": {
      "text/plain": [
       "<Null>                                 7233\n",
       "Going Ahead                            5694\n",
       "Turning Left                           1630\n",
       "Stopped                                 576\n",
       "Turning Right                           432\n",
       "Slowing or Stopping                     249\n",
       "Changing Lanes                          203\n",
       "Other                                   176\n",
       "Parked                                  175\n",
       "Unknown                                 120\n",
       "Reversing                               113\n",
       "Making U Turn                            99\n",
       "Overtaking                               87\n",
       "Pulling Away from Shoulder or Curb       38\n",
       "Merging                                  17\n",
       "Pulling Onto Shoulder or towardCurb      14\n",
       "Disabled                                  4\n",
       "Name: MANOEUVER, dtype: int64"
      ]
     },
     "execution_count": 67,
     "metadata": {},
     "output_type": "execute_result"
    }
   ],
   "source": [
    "new_ksi_df['MANOEUVER'].value_counts()"
   ]
  },
  {
   "cell_type": "code",
   "execution_count": 68,
   "metadata": {},
   "outputs": [],
   "source": [
    "MANOEUVER_counts = new_ksi_df['MANOEUVER'].value_counts()\n",
    "replace_MANOEUVER = list(MANOEUVER_counts[MANOEUVER_counts < 100].index)\n",
    "\n",
    "for x in replace_MANOEUVER:\n",
    "    new_ksi_df['MANOEUVER'] = new_ksi_df['MANOEUVER'].replace(x,\"Other\")\n",
    "    \n",
    "for x in new_ksi_df['MANOEUVER']:\n",
    "    new_ksi_df['MANOEUVER'].replace(['<Null>'], ['Not Applicable'], inplace=True)"
   ]
  },
  {
   "cell_type": "code",
   "execution_count": 69,
   "metadata": {},
   "outputs": [
    {
     "data": {
      "text/plain": [
       "Not Applicable         7233\n",
       "Going Ahead            5694\n",
       "Turning Left           1630\n",
       "Stopped                 576\n",
       "Other                   435\n",
       "Turning Right           432\n",
       "Slowing or Stopping     249\n",
       "Changing Lanes          203\n",
       "Parked                  175\n",
       "Unknown                 120\n",
       "Reversing               113\n",
       "Name: MANOEUVER, dtype: int64"
      ]
     },
     "execution_count": 69,
     "metadata": {},
     "output_type": "execute_result"
    }
   ],
   "source": [
    "new_ksi_df['MANOEUVER'].value_counts()"
   ]
  },
  {
   "cell_type": "code",
   "execution_count": 70,
   "metadata": {},
   "outputs": [],
   "source": [
    "new_ksi_df['POLICE_DIVISION'] = new_ksi_df['POLICE_DIVISION'].str[1:].astype(int)"
   ]
  },
  {
   "cell_type": "code",
   "execution_count": 71,
   "metadata": {
    "scrolled": true
   },
   "outputs": [
    {
     "data": {
      "text/plain": [
       "42    1664\n",
       "41    1297\n",
       "22    1202\n",
       "32    1193\n",
       "23    1164\n",
       "14    1163\n",
       "43    1024\n",
       "52     947\n",
       "51     883\n",
       "31     878\n",
       "53     877\n",
       "33     851\n",
       "55     816\n",
       "11     809\n",
       "13     794\n",
       "12     737\n",
       "54     561\n",
       "Name: POLICE_DIVISION, dtype: int64"
      ]
     },
     "execution_count": 71,
     "metadata": {},
     "output_type": "execute_result"
    }
   ],
   "source": [
    "new_ksi_df['POLICE_DIVISION'].value_counts()"
   ]
  },
  {
   "cell_type": "code",
   "execution_count": 72,
   "metadata": {},
   "outputs": [],
   "source": [
    "new_ksi_df['NEIGHBOURHOOD'] = new_ksi_df['NEIGHBOURHOOD'].str.split(\"\\s+\\(\").str[0]"
   ]
  },
  {
   "cell_type": "code",
   "execution_count": 73,
   "metadata": {
    "scrolled": true
   },
   "outputs": [
    {
     "data": {
      "text/html": [
       "<div>\n",
       "<style scoped>\n",
       "    .dataframe tbody tr th:only-of-type {\n",
       "        vertical-align: middle;\n",
       "    }\n",
       "\n",
       "    .dataframe tbody tr th {\n",
       "        vertical-align: top;\n",
       "    }\n",
       "\n",
       "    .dataframe thead th {\n",
       "        text-align: right;\n",
       "    }\n",
       "</style>\n",
       "<table border=\"1\" class=\"dataframe\">\n",
       "  <thead>\n",
       "    <tr style=\"text-align: right;\">\n",
       "      <th></th>\n",
       "      <th>ACCNUM</th>\n",
       "      <th>YEAR</th>\n",
       "      <th>DATE</th>\n",
       "      <th>MONTH</th>\n",
       "      <th>DAY</th>\n",
       "      <th>HOUR</th>\n",
       "      <th>TIME</th>\n",
       "      <th>WEEKDAY</th>\n",
       "      <th>IS_WEEKEND</th>\n",
       "      <th>IS_HOLIDAY</th>\n",
       "      <th>...</th>\n",
       "      <th>PASSENGER</th>\n",
       "      <th>SPEEDING</th>\n",
       "      <th>AG_DRIV</th>\n",
       "      <th>REDLIGHT</th>\n",
       "      <th>ALCOHOL</th>\n",
       "      <th>DISABILITY</th>\n",
       "      <th>POLICE_DIVISION</th>\n",
       "      <th>HOOD_ID</th>\n",
       "      <th>NEIGHBOURHOOD</th>\n",
       "      <th>ObjectId</th>\n",
       "    </tr>\n",
       "  </thead>\n",
       "  <tbody>\n",
       "    <tr>\n",
       "      <th>0</th>\n",
       "      <td>892658</td>\n",
       "      <td>2006</td>\n",
       "      <td>2006-03-11 05:00:00+00:00</td>\n",
       "      <td>3</td>\n",
       "      <td>11</td>\n",
       "      <td>8</td>\n",
       "      <td>Morning</td>\n",
       "      <td>Saturday</td>\n",
       "      <td>1</td>\n",
       "      <td>0</td>\n",
       "      <td>...</td>\n",
       "      <td>0</td>\n",
       "      <td>0</td>\n",
       "      <td>1</td>\n",
       "      <td>0</td>\n",
       "      <td>0</td>\n",
       "      <td>0</td>\n",
       "      <td>11</td>\n",
       "      <td>88</td>\n",
       "      <td>High Park North</td>\n",
       "      <td>1</td>\n",
       "    </tr>\n",
       "    <tr>\n",
       "      <th>1</th>\n",
       "      <td>892658</td>\n",
       "      <td>2006</td>\n",
       "      <td>2006-03-11 05:00:00+00:00</td>\n",
       "      <td>3</td>\n",
       "      <td>11</td>\n",
       "      <td>8</td>\n",
       "      <td>Morning</td>\n",
       "      <td>Saturday</td>\n",
       "      <td>1</td>\n",
       "      <td>0</td>\n",
       "      <td>...</td>\n",
       "      <td>0</td>\n",
       "      <td>0</td>\n",
       "      <td>1</td>\n",
       "      <td>0</td>\n",
       "      <td>0</td>\n",
       "      <td>0</td>\n",
       "      <td>11</td>\n",
       "      <td>88</td>\n",
       "      <td>High Park North</td>\n",
       "      <td>2</td>\n",
       "    </tr>\n",
       "    <tr>\n",
       "      <th>2</th>\n",
       "      <td>892810</td>\n",
       "      <td>2006</td>\n",
       "      <td>2006-03-11 05:00:00+00:00</td>\n",
       "      <td>3</td>\n",
       "      <td>11</td>\n",
       "      <td>9</td>\n",
       "      <td>Morning</td>\n",
       "      <td>Saturday</td>\n",
       "      <td>1</td>\n",
       "      <td>0</td>\n",
       "      <td>...</td>\n",
       "      <td>0</td>\n",
       "      <td>0</td>\n",
       "      <td>1</td>\n",
       "      <td>1</td>\n",
       "      <td>0</td>\n",
       "      <td>0</td>\n",
       "      <td>42</td>\n",
       "      <td>131</td>\n",
       "      <td>Rouge</td>\n",
       "      <td>3</td>\n",
       "    </tr>\n",
       "    <tr>\n",
       "      <th>3</th>\n",
       "      <td>892810</td>\n",
       "      <td>2006</td>\n",
       "      <td>2006-03-11 05:00:00+00:00</td>\n",
       "      <td>3</td>\n",
       "      <td>11</td>\n",
       "      <td>9</td>\n",
       "      <td>Morning</td>\n",
       "      <td>Saturday</td>\n",
       "      <td>1</td>\n",
       "      <td>0</td>\n",
       "      <td>...</td>\n",
       "      <td>0</td>\n",
       "      <td>0</td>\n",
       "      <td>1</td>\n",
       "      <td>1</td>\n",
       "      <td>0</td>\n",
       "      <td>0</td>\n",
       "      <td>42</td>\n",
       "      <td>131</td>\n",
       "      <td>Rouge</td>\n",
       "      <td>4</td>\n",
       "    </tr>\n",
       "    <tr>\n",
       "      <th>4</th>\n",
       "      <td>892682</td>\n",
       "      <td>2006</td>\n",
       "      <td>2006-03-12 05:00:00+00:00</td>\n",
       "      <td>3</td>\n",
       "      <td>12</td>\n",
       "      <td>2</td>\n",
       "      <td>Night</td>\n",
       "      <td>Sunday</td>\n",
       "      <td>1</td>\n",
       "      <td>0</td>\n",
       "      <td>...</td>\n",
       "      <td>0</td>\n",
       "      <td>0</td>\n",
       "      <td>0</td>\n",
       "      <td>0</td>\n",
       "      <td>1</td>\n",
       "      <td>0</td>\n",
       "      <td>41</td>\n",
       "      <td>138</td>\n",
       "      <td>Eglinton East</td>\n",
       "      <td>5</td>\n",
       "    </tr>\n",
       "  </tbody>\n",
       "</table>\n",
       "<p>5 rows × 44 columns</p>\n",
       "</div>"
      ],
      "text/plain": [
       "   ACCNUM  YEAR                      DATE  MONTH  DAY  HOUR     TIME  \\\n",
       "0  892658  2006 2006-03-11 05:00:00+00:00      3   11     8  Morning   \n",
       "1  892658  2006 2006-03-11 05:00:00+00:00      3   11     8  Morning   \n",
       "2  892810  2006 2006-03-11 05:00:00+00:00      3   11     9  Morning   \n",
       "3  892810  2006 2006-03-11 05:00:00+00:00      3   11     9  Morning   \n",
       "4  892682  2006 2006-03-12 05:00:00+00:00      3   12     2    Night   \n",
       "\n",
       "    WEEKDAY  IS_WEEKEND  IS_HOLIDAY  ... PASSENGER SPEEDING AG_DRIV  REDLIGHT  \\\n",
       "0  Saturday           1           0  ...         0        0       1         0   \n",
       "1  Saturday           1           0  ...         0        0       1         0   \n",
       "2  Saturday           1           0  ...         0        0       1         1   \n",
       "3  Saturday           1           0  ...         0        0       1         1   \n",
       "4    Sunday           1           0  ...         0        0       0         0   \n",
       "\n",
       "   ALCOHOL DISABILITY POLICE_DIVISION HOOD_ID    NEIGHBOURHOOD ObjectId  \n",
       "0        0          0              11      88  High Park North        1  \n",
       "1        0          0              11      88  High Park North        2  \n",
       "2        0          0              42     131            Rouge        3  \n",
       "3        0          0              42     131            Rouge        4  \n",
       "4        1          0              41     138    Eglinton East        5  \n",
       "\n",
       "[5 rows x 44 columns]"
      ]
     },
     "execution_count": 73,
     "metadata": {},
     "output_type": "execute_result"
    }
   ],
   "source": [
    "new_ksi_df.head()"
   ]
  },
  {
   "cell_type": "code",
   "execution_count": 74,
   "metadata": {},
   "outputs": [
    {
     "data": {
      "text/plain": [
       "Index(['ACCNUM', 'YEAR', 'DATE', 'MONTH', 'DAY', 'HOUR', 'TIME', 'WEEKDAY',\n",
       "       'IS_WEEKEND', 'IS_HOLIDAY', 'HOLIDAY', 'ROAD_CLASS', 'DISTRICT',\n",
       "       'LATITUDE', 'LONGITUDE', 'LOCCOORD', 'TRAFFCTL', 'VISIBILITY', 'LIGHT',\n",
       "       'RDSFCOND', 'ACCLASS', 'IMPACTYPE', 'INVTYPE', 'INVAGE', 'INJURY',\n",
       "       'VEHTYPE', 'MANOEUVER', 'PEDESTRIAN', 'CYCLIST', 'AUTOMOBILE',\n",
       "       'MOTORCYCLE', 'TRUCK', 'TRSN_CITY_VEH', 'EMERG_VEH', 'PASSENGER',\n",
       "       'SPEEDING', 'AG_DRIV', 'REDLIGHT', 'ALCOHOL', 'DISABILITY',\n",
       "       'POLICE_DIVISION', 'HOOD_ID', 'NEIGHBOURHOOD', 'ObjectId'],\n",
       "      dtype='object')"
      ]
     },
     "execution_count": 74,
     "metadata": {},
     "output_type": "execute_result"
    }
   ],
   "source": [
    "new_ksi_df.columns"
   ]
  },
  {
   "cell_type": "code",
   "execution_count": 77,
   "metadata": {},
   "outputs": [],
   "source": [
    "new_ksi_df = new_ksi_df.rename(columns={\n",
    "    'ACCNUM': 'Accident Number',\n",
    "    'YEAR': 'Year',\n",
    "    'DATE': 'Date',\n",
    "    'MONTH': 'Month',\n",
    "    'DAY':'Day',\n",
    "    'HOUR': 'Hour',\n",
    "    'TIME': 'Time',\n",
    "    'WEEKDAY': 'Weekday',\n",
    "    'IS_WEEKEND':'Is_Weekend',\n",
    "    'IS_HOLIDAY': 'Is_Holiday',\n",
    "    'HOLIDAY': 'Holiday',\n",
    "    'ROAD_CLASS': 'Road Classification',\n",
    "    'DISTRICT': 'City District',\n",
    "    'LATITUDE': 'Latitude',\n",
    "    'LONGITUDE': 'Longitude',\n",
    "    'LOCCOORD': 'Location Coordinate',\n",
    "    'TRAFFCTL': 'Traffic Control',\n",
    "    'VISIBILITY': 'Environment Condition',\n",
    "    'LIGHT': 'Light Condition',\n",
    "    'RDSFCOND': 'Road Surface Condition',\n",
    "    'ACCLASS': 'Classification of Accident',\n",
    "    'IMPACTYPE': 'Initial Impact Type',\n",
    "    'INVTYPE': 'Involvement Type',\n",
    "    'INVAGE': 'Age of Involved Party',\n",
    "    'INJURY': 'Severity of Injury',\n",
    "    'VEHTYPE': 'Type of Vehicle',\n",
    "    'MANOEUVER': 'Vehicle Manouever',\n",
    "    'PEDESTRIAN': 'Pedestrian Involved',\n",
    "    'CYCLIST': 'Cyclists Involved',\n",
    "    'AUTOMOBILE': 'Driver Involved',\n",
    "    'MOTORCYCLE': 'Motorcyclist Involved',\n",
    "    'TRUCK': 'Truck Driver Involved',\n",
    "    'TRSN_CITY_VEH': 'Transit or City Vehicle Involved',\n",
    "    'EMERG_VEH': 'Emergency Vehicle Involved',\n",
    "    'PASSENGER': 'Passenger Involved',\n",
    "    'SPEEDING': 'Speeding Related',\n",
    "    'AG_DRIV': 'Aggressive and Distracted Driving',\n",
    "    'REDLIGHT': 'Red Light Related',\n",
    "    'ALCOHOL': 'Alcohol Related',\n",
    "    'DISABILITY': 'Medical or Physical Disability Related',\n",
    "    'POLICE_DIVISION': 'Police Division',\n",
    "    'HOOD_ID': 'Neighbourhood ID',\n",
    "    'NEIGHBOURHOOD': 'Neighbourhood',\n",
    "    'ObjectId': 'Object ID',\n",
    "    })"
   ]
  },
  {
   "cell_type": "code",
   "execution_count": 78,
   "metadata": {},
   "outputs": [
    {
     "data": {
      "text/html": [
       "<div>\n",
       "<style scoped>\n",
       "    .dataframe tbody tr th:only-of-type {\n",
       "        vertical-align: middle;\n",
       "    }\n",
       "\n",
       "    .dataframe tbody tr th {\n",
       "        vertical-align: top;\n",
       "    }\n",
       "\n",
       "    .dataframe thead th {\n",
       "        text-align: right;\n",
       "    }\n",
       "</style>\n",
       "<table border=\"1\" class=\"dataframe\">\n",
       "  <thead>\n",
       "    <tr style=\"text-align: right;\">\n",
       "      <th></th>\n",
       "      <th>Accident Number</th>\n",
       "      <th>Year</th>\n",
       "      <th>Date</th>\n",
       "      <th>Month</th>\n",
       "      <th>Day</th>\n",
       "      <th>Hour</th>\n",
       "      <th>Time</th>\n",
       "      <th>Weekday</th>\n",
       "      <th>Is_Weekend</th>\n",
       "      <th>Is_Holiday</th>\n",
       "      <th>...</th>\n",
       "      <th>Passenger Involved</th>\n",
       "      <th>Speeding Related</th>\n",
       "      <th>Aggressive and Distracted Driving</th>\n",
       "      <th>Red Light Related</th>\n",
       "      <th>Alcohol Related</th>\n",
       "      <th>Medical or Physical Disability Related</th>\n",
       "      <th>Police Division</th>\n",
       "      <th>Neighbourhood Identifier</th>\n",
       "      <th>Neighbourhood</th>\n",
       "      <th>Object Id</th>\n",
       "    </tr>\n",
       "  </thead>\n",
       "  <tbody>\n",
       "    <tr>\n",
       "      <th>0</th>\n",
       "      <td>892658</td>\n",
       "      <td>2006</td>\n",
       "      <td>2006-03-11 05:00:00+00:00</td>\n",
       "      <td>3</td>\n",
       "      <td>11</td>\n",
       "      <td>8</td>\n",
       "      <td>Morning</td>\n",
       "      <td>Saturday</td>\n",
       "      <td>1</td>\n",
       "      <td>0</td>\n",
       "      <td>...</td>\n",
       "      <td>0</td>\n",
       "      <td>0</td>\n",
       "      <td>1</td>\n",
       "      <td>0</td>\n",
       "      <td>0</td>\n",
       "      <td>0</td>\n",
       "      <td>11</td>\n",
       "      <td>88</td>\n",
       "      <td>High Park North</td>\n",
       "      <td>1</td>\n",
       "    </tr>\n",
       "    <tr>\n",
       "      <th>1</th>\n",
       "      <td>892658</td>\n",
       "      <td>2006</td>\n",
       "      <td>2006-03-11 05:00:00+00:00</td>\n",
       "      <td>3</td>\n",
       "      <td>11</td>\n",
       "      <td>8</td>\n",
       "      <td>Morning</td>\n",
       "      <td>Saturday</td>\n",
       "      <td>1</td>\n",
       "      <td>0</td>\n",
       "      <td>...</td>\n",
       "      <td>0</td>\n",
       "      <td>0</td>\n",
       "      <td>1</td>\n",
       "      <td>0</td>\n",
       "      <td>0</td>\n",
       "      <td>0</td>\n",
       "      <td>11</td>\n",
       "      <td>88</td>\n",
       "      <td>High Park North</td>\n",
       "      <td>2</td>\n",
       "    </tr>\n",
       "    <tr>\n",
       "      <th>2</th>\n",
       "      <td>892810</td>\n",
       "      <td>2006</td>\n",
       "      <td>2006-03-11 05:00:00+00:00</td>\n",
       "      <td>3</td>\n",
       "      <td>11</td>\n",
       "      <td>9</td>\n",
       "      <td>Morning</td>\n",
       "      <td>Saturday</td>\n",
       "      <td>1</td>\n",
       "      <td>0</td>\n",
       "      <td>...</td>\n",
       "      <td>0</td>\n",
       "      <td>0</td>\n",
       "      <td>1</td>\n",
       "      <td>1</td>\n",
       "      <td>0</td>\n",
       "      <td>0</td>\n",
       "      <td>42</td>\n",
       "      <td>131</td>\n",
       "      <td>Rouge</td>\n",
       "      <td>3</td>\n",
       "    </tr>\n",
       "    <tr>\n",
       "      <th>3</th>\n",
       "      <td>892810</td>\n",
       "      <td>2006</td>\n",
       "      <td>2006-03-11 05:00:00+00:00</td>\n",
       "      <td>3</td>\n",
       "      <td>11</td>\n",
       "      <td>9</td>\n",
       "      <td>Morning</td>\n",
       "      <td>Saturday</td>\n",
       "      <td>1</td>\n",
       "      <td>0</td>\n",
       "      <td>...</td>\n",
       "      <td>0</td>\n",
       "      <td>0</td>\n",
       "      <td>1</td>\n",
       "      <td>1</td>\n",
       "      <td>0</td>\n",
       "      <td>0</td>\n",
       "      <td>42</td>\n",
       "      <td>131</td>\n",
       "      <td>Rouge</td>\n",
       "      <td>4</td>\n",
       "    </tr>\n",
       "    <tr>\n",
       "      <th>4</th>\n",
       "      <td>892682</td>\n",
       "      <td>2006</td>\n",
       "      <td>2006-03-12 05:00:00+00:00</td>\n",
       "      <td>3</td>\n",
       "      <td>12</td>\n",
       "      <td>2</td>\n",
       "      <td>Night</td>\n",
       "      <td>Sunday</td>\n",
       "      <td>1</td>\n",
       "      <td>0</td>\n",
       "      <td>...</td>\n",
       "      <td>0</td>\n",
       "      <td>0</td>\n",
       "      <td>0</td>\n",
       "      <td>0</td>\n",
       "      <td>1</td>\n",
       "      <td>0</td>\n",
       "      <td>41</td>\n",
       "      <td>138</td>\n",
       "      <td>Eglinton East</td>\n",
       "      <td>5</td>\n",
       "    </tr>\n",
       "  </tbody>\n",
       "</table>\n",
       "<p>5 rows × 44 columns</p>\n",
       "</div>"
      ],
      "text/plain": [
       "   Accident Number  Year                      Date  Month  Day  Hour     Time  \\\n",
       "0           892658  2006 2006-03-11 05:00:00+00:00      3   11     8  Morning   \n",
       "1           892658  2006 2006-03-11 05:00:00+00:00      3   11     8  Morning   \n",
       "2           892810  2006 2006-03-11 05:00:00+00:00      3   11     9  Morning   \n",
       "3           892810  2006 2006-03-11 05:00:00+00:00      3   11     9  Morning   \n",
       "4           892682  2006 2006-03-12 05:00:00+00:00      3   12     2    Night   \n",
       "\n",
       "    Weekday  Is_Weekend  Is_Holiday  ... Passenger Involved Speeding Related  \\\n",
       "0  Saturday           1           0  ...                  0                0   \n",
       "1  Saturday           1           0  ...                  0                0   \n",
       "2  Saturday           1           0  ...                  0                0   \n",
       "3  Saturday           1           0  ...                  0                0   \n",
       "4    Sunday           1           0  ...                  0                0   \n",
       "\n",
       "  Aggressive and Distracted Driving  Red Light Related  Alcohol Related  \\\n",
       "0                                 1                  0                0   \n",
       "1                                 1                  0                0   \n",
       "2                                 1                  1                0   \n",
       "3                                 1                  1                0   \n",
       "4                                 0                  0                1   \n",
       "\n",
       "  Medical or Physical Disability Related Police Division  \\\n",
       "0                                      0              11   \n",
       "1                                      0              11   \n",
       "2                                      0              42   \n",
       "3                                      0              42   \n",
       "4                                      0              41   \n",
       "\n",
       "  Neighbourhood Identifier    Neighbourhood Object Id  \n",
       "0                       88  High Park North         1  \n",
       "1                       88  High Park North         2  \n",
       "2                      131            Rouge         3  \n",
       "3                      131            Rouge         4  \n",
       "4                      138    Eglinton East         5  \n",
       "\n",
       "[5 rows x 44 columns]"
      ]
     },
     "execution_count": 78,
     "metadata": {},
     "output_type": "execute_result"
    }
   ],
   "source": [
    "new_ksi_df.head()"
   ]
  },
  {
   "cell_type": "code",
   "execution_count": 83,
   "metadata": {},
   "outputs": [],
   "source": [
    "new_ksi_df.to_csv(\"../Preprocessing/clean_KSI.csv\", index=False)"
   ]
  }
 ],
 "metadata": {
  "kernelspec": {
   "display_name": "PythonData",
   "language": "python",
   "name": "pythondata"
  },
  "language_info": {
   "codemirror_mode": {
    "name": "ipython",
    "version": 3
   },
   "file_extension": ".py",
   "mimetype": "text/x-python",
   "name": "python",
   "nbconvert_exporter": "python",
   "pygments_lexer": "ipython3",
   "version": "3.7.9"
  }
 },
 "nbformat": 4,
 "nbformat_minor": 4
}
